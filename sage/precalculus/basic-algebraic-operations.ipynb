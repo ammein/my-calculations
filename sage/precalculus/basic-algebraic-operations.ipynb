{
 "cells": [
  {
   "metadata": {
    "collapsed": true
   },
   "cell_type": "markdown",
   "source": [
    "# Algebra & Real Numbers\n",
    "\n",
    "The numbers $14$ , $-3$, $0$, $\\frac{7}{5}$, $\\mathbf{\\sqrt{2}}$ and $\\mathbf{\\sqrt[3]{6}}$ are all examples of real numbers."
   ],
   "id": "1b80b46a922cecb6"
  },
  {
   "metadata": {},
   "cell_type": "markdown",
   "source": [
    "## Sets\n",
    "$\\mathbf{\\in}$ is the object **is in** the set. Example:\n",
    "\n",
    "$\\mathbf{a \\in A}$ means \"a is an element of set A\"\n",
    "\n",
    "$\\mathbf{a \\notin A}$ means \"a is not an element of set A\""
   ],
   "id": "39e4949d3d4a3947"
  },
  {
   "metadata": {
    "ExecuteTime": {
     "end_time": "2025-08-16T04:10:29.321868Z",
     "start_time": "2025-08-16T04:10:29.317600Z"
    }
   },
   "cell_type": "code",
   "source": [
    "from sage.all import *\n",
    "\n",
    "A = Set([Integer(1), Integer(2), Integer(3)])\n",
    "a = Integer(2)\n",
    "\n",
    "a in A # True"
   ],
   "id": "1e29535cac98d178",
   "outputs": [
    {
     "data": {
      "text/plain": [
       "True"
      ]
     },
     "execution_count": 3,
     "metadata": {},
     "output_type": "execute_result"
    }
   ],
   "execution_count": 3
  },
  {
   "metadata": {
    "ExecuteTime": {
     "end_time": "2025-08-16T04:10:29.329997Z",
     "start_time": "2025-08-16T04:10:29.327790Z"
    }
   },
   "cell_type": "code",
   "source": [
    "a = Integer(10)\n",
    "\n",
    "a in A # False"
   ],
   "id": "9ee88cb3d9f51804",
   "outputs": [
    {
     "data": {
      "text/plain": [
       "False"
      ]
     },
     "execution_count": 4,
     "metadata": {},
     "output_type": "execute_result"
    }
   ],
   "execution_count": 4
  }
 ],
 "metadata": {
  "kernelspec": {
   "display_name": "Python 3",
   "language": "python",
   "name": "python3"
  },
  "language_info": {
   "codemirror_mode": {
    "name": "ipython",
    "version": 2
   },
   "file_extension": ".py",
   "mimetype": "text/x-python",
   "name": "python",
   "nbconvert_exporter": "python",
   "pygments_lexer": "ipython2",
   "version": "2.7.6"
  }
 },
 "nbformat": 4,
 "nbformat_minor": 5
}
