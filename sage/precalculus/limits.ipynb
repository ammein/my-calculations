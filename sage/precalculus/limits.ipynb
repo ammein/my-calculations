{
 "cells": [
  {
   "metadata": {
    "collapsed": true,
    "ExecuteTime": {
     "end_time": "2025-08-16T08:01:49.242598Z",
     "start_time": "2025-08-16T08:01:49.240148Z"
    }
   },
   "cell_type": "markdown",
   "source": "# Limits",
   "id": "403f269c507ea973"
  },
  {
   "metadata": {},
   "cell_type": "markdown",
   "source": "1. Find: $\\mathbf{lim_{x\\to4} \\space f(x) = 3x - 2}$",
   "id": "c454921c28b7e74"
  },
  {
   "metadata": {
    "ExecuteTime": {
     "end_time": "2025-08-17T05:44:50.644869Z",
     "start_time": "2025-08-17T05:44:50.638524Z"
    }
   },
   "cell_type": "code",
   "source": [
    "from sage.all import *\n",
    "\n",
    "x = var('x')\n",
    "\n",
    "limit(Integer(3)*x - 2, x = 4)"
   ],
   "id": "b5b102db8f78eb2e",
   "outputs": [
    {
     "data": {
      "text/plain": [
       "10"
      ]
     },
     "execution_count": 6,
     "metadata": {},
     "output_type": "execute_result"
    }
   ],
   "execution_count": 6
  },
  {
   "metadata": {},
   "cell_type": "markdown",
   "source": "> Therefore: $\\mathbf{lim_{x\\to4} \\space f(x) = 3x - 2} \\approx{10}$",
   "id": "7a15a9bd30136edd"
  },
  {
   "metadata": {},
   "cell_type": "markdown",
   "source": "2. Find: $\\mathbf{\\lim_{x\\to(-2)} \\space f(x) = 5-2x}$",
   "id": "45545af05530d43"
  },
  {
   "metadata": {
    "ExecuteTime": {
     "end_time": "2025-08-17T05:44:50.660540Z",
     "start_time": "2025-08-17T05:44:50.656825Z"
    }
   },
   "cell_type": "code",
   "source": "limit(Integer(5)-Integer(2)*x, x = -2, dir='-')",
   "id": "ea097ecedc239ce",
   "outputs": [
    {
     "data": {
      "text/plain": [
       "9"
      ]
     },
     "execution_count": 7,
     "metadata": {},
     "output_type": "execute_result"
    }
   ],
   "execution_count": 7
  },
  {
   "metadata": {},
   "cell_type": "markdown",
   "source": "> Therefore: $\\mathbf{\\lim_{x\\to(-2)} \\space f(x) = 5-2x \\approx{9}}$",
   "id": "e8d63da181570809"
  },
  {
   "metadata": {},
   "cell_type": "markdown",
   "source": [
    "Find:\n",
    "$$\n",
    "\\mathbf{\n",
    "\\lim_{x\\to1} \\frac{x^2-1}{x-1}\n",
    "}\n",
    "$$\n",
    "\n",
    "$$\n",
    "\\mathbf{\n",
    "\\lim_{x\\to1} \\frac{(x+1)\\cancel{(x-1)}}{\\cancel{x-1}}\n",
    "}\n",
    "$$\n",
    "\n",
    "$$\n",
    "\\mathbf{\n",
    "\\lim_{x\\to1} x+1 = 2\n",
    "}\n",
    "$$"
   ],
   "id": "d3b1615b71cee1fe"
  },
  {
   "metadata": {
    "ExecuteTime": {
     "end_time": "2025-08-17T05:44:50.670314Z",
     "start_time": "2025-08-17T05:44:50.667115Z"
    }
   },
   "cell_type": "code",
   "source": "limit((x**2-1)/(x-1), x = 1, dir='+')",
   "id": "88b57666f6e74f22",
   "outputs": [
    {
     "data": {
      "text/plain": [
       "2"
      ]
     },
     "execution_count": 8,
     "metadata": {},
     "output_type": "execute_result"
    }
   ],
   "execution_count": 8
  },
  {
   "metadata": {},
   "cell_type": "markdown",
   "source": [
    "Find:\n",
    "\n",
    "$$\n",
    "\\mathbf{\n",
    "\\lim_{x\\to5} \\frac{10}{x-5}\n",
    "}\n",
    "$$"
   ],
   "id": "385836bcfc88835"
  },
  {
   "metadata": {
    "ExecuteTime": {
     "end_time": "2025-08-17T05:44:50.678242Z",
     "start_time": "2025-08-17T05:44:50.675406Z"
    }
   },
   "cell_type": "code",
   "source": "limit(10/(x-5), x = 5)",
   "id": "f96b00ddc9c2a489",
   "outputs": [
    {
     "data": {
      "text/plain": [
       "Infinity"
      ]
     },
     "execution_count": 9,
     "metadata": {},
     "output_type": "execute_result"
    }
   ],
   "execution_count": 9
  },
  {
   "metadata": {},
   "cell_type": "markdown",
   "source": "> Let's see it in graph",
   "id": "2de937e3872458cd"
  },
  {
   "metadata": {
    "ExecuteTime": {
     "end_time": "2025-08-17T05:44:50.750890Z",
     "start_time": "2025-08-17T05:44:50.682789Z"
    }
   },
   "cell_type": "code",
   "source": [
    "p1 = plot(Integer(10)/(x-Integer(5)), x, -Integer(2),Integer(5))\n",
    "p2 = plot(Integer(10)/(x-Integer(5)), x, Integer(5),-Integer(5))\n",
    "g = p1 + p2\n",
    "g.show()"
   ],
   "id": "235698e98bdc2164",
   "outputs": [
    {
     "data": {
      "image/png": "[encoded data removed]",
      "text/plain": [
       "Graphics object consisting of 1 graphics primitive"
      ]
     },
     "metadata": {},
     "output_type": "display_data"
    }
   ],
   "execution_count": 10
  },
  {
   "metadata": {},
   "cell_type": "markdown",
   "source": [
    "> You'll see that the graph is Infinity to negative value as $x$ approaches to $5$. Therefore:\n",
    "\n",
    "$$\n",
    "\\mathbf{\n",
    "\\lim_{x\\to5} \\frac{10}{x-5} = Infinity\n",
    "}\n",
    "$$"
   ],
   "id": "c3e7917e15ec21bd"
  },
  {
   "metadata": {},
   "cell_type": "markdown",
   "source": "## Infinite Limits\n",
   "id": "873b0832898490af"
  }
 ],
 "metadata": {
  "kernelspec": {
   "display_name": "SageMath 10.6",
   "language": "sage",
   "name": "sagemath"
  },
  "language_info": {
   "codemirror_mode": {
    "name": "ipython",
    "version": 2
   },
   "file_extension": ".py",
   "mimetype": "text/x-python",
   "name": "python",
   "nbconvert_exporter": "python",
   "pygments_lexer": "ipython2",
   "version": "2.7.6"
  }
 },
 "nbformat": 4,
 "nbformat_minor": 5
}
