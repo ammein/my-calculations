{
 "cells": [
  {
   "cell_type": "code",
   "id": "initial_id",
   "metadata": {
    "collapsed": true,
    "ExecuteTime": {
     "end_time": "2025-08-14T05:22:05.749348Z",
     "start_time": "2025-08-14T05:22:05.746103Z"
    }
   },
   "source": [
    "def decode_char(mask, w=5, h=7):\n",
    "    bits = []\n",
    "    for y in range(h):\n",
    "        row = \"\"\n",
    "        for x in range(w):\n",
    "            bit_index = y * w + x\n",
    "            if mask & (1 << bit_index):\n",
    "                row += \"█\"  # pixel on\n",
    "            else:\n",
    "                row += \" \"  # pixel off\n",
    "        bits.append(row)\n",
    "    return \"\\n\".join(bits)\n",
    "\n",
    "print(decode_char(65600))\n"
   ],
   "outputs": [
    {
     "name": "stdout",
     "output_type": "stream",
     "text": [
      "     \n",
      " █   \n",
      "     \n",
      " █   \n",
      "     \n",
      "     \n",
      "     \n"
     ]
    }
   ],
   "execution_count": 1
  }
 ],
 "metadata": {
  "kernelspec": {
   "display_name": "Python 3",
   "language": "python",
   "name": "python3"
  },
  "language_info": {
   "codemirror_mode": {
    "name": "ipython",
    "version": 2
   },
   "file_extension": ".py",
   "mimetype": "text/x-python",
   "name": "python",
   "nbconvert_exporter": "python",
   "pygments_lexer": "ipython2",
   "version": "2.7.6"
  }
 },
 "nbformat": 4,
 "nbformat_minor": 5
}
