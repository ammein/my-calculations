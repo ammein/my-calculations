{
 "cells": [
  {
   "metadata": {},
   "cell_type": "markdown",
   "source": [
    "Sage can perform various computations related to basic algebra and calculus: for example, finding solutions to equations, differentiation, integration, and Laplace transforms. See the Sage Constructions documentation for more examples.\n",
    "\n",
    "In all these examples, it is important to note that the variables in the functions are defined to be `var(...)`. As an example:"
   ],
   "id": "622f019d1fb59f54"
  },
  {
   "metadata": {
    "collapsed": true,
    "ExecuteTime": {
     "end_time": "2025-08-09T15:29:46.203045Z",
     "start_time": "2025-08-09T15:29:46.194300Z"
    }
   },
   "cell_type": "code",
   "source": [
    "from sage.all import *\n",
    "u = var('u')\n",
    "diff(sin(u), u)"
   ],
   "id": "9e0a4222efe3dace",
   "outputs": [
    {
     "data": {
      "text/plain": [
       "cos(u)"
      ]
     },
     "execution_count": 13,
     "metadata": {},
     "output_type": "execute_result"
    }
   ],
   "execution_count": 13
  },
  {
   "metadata": {},
   "cell_type": "markdown",
   "source": [
    "# Solving Equations\n",
    "## Solving Equations Exactly\n",
    "The solve function solves equations. To use it, first specify some variables; then the arguments to solve are an equation (or a system of equations), together with the variables for which to solve:"
   ],
   "id": "b4adb9235fa3d029"
  },
  {
   "metadata": {
    "ExecuteTime": {
     "end_time": "2025-08-09T15:29:46.224280Z",
     "start_time": "2025-08-09T15:29:46.215373Z"
    }
   },
   "cell_type": "code",
   "source": [
    "from sage.all import *\n",
    "x = var('x')\n",
    "solve(x**Integer(2) + Integer(3)*x + Integer(2), x)"
   ],
   "id": "ed3536531cb1e409",
   "outputs": [
    {
     "data": {
      "text/plain": [
       "[x == -2, x == -1]"
      ]
     },
     "execution_count": 14,
     "metadata": {},
     "output_type": "execute_result"
    }
   ],
   "execution_count": 14
  },
  {
   "metadata": {},
   "cell_type": "markdown",
   "source": "You can solve equations for one variable in terms of others:",
   "id": "2247812f37d6aa51"
  },
  {
   "metadata": {
    "ExecuteTime": {
     "end_time": "2025-08-09T15:29:46.241556Z",
     "start_time": "2025-08-09T15:29:46.233282Z"
    }
   },
   "cell_type": "code",
   "source": [
    "from sage.all import *\n",
    "x, b, c = var('x b c')\n",
    "solve([x**Integer(2) + b*x + c == Integer(0)],x)"
   ],
   "id": "e2bde595e34df6fe",
   "outputs": [
    {
     "data": {
      "text/plain": [
       "[x == -1/2*b - 1/2*sqrt(b^2 - 4*c), x == -1/2*b + 1/2*sqrt(b^2 - 4*c)]"
      ]
     },
     "execution_count": 15,
     "metadata": {},
     "output_type": "execute_result"
    }
   ],
   "execution_count": 15
  },
  {
   "metadata": {},
   "cell_type": "markdown",
   "source": "You can also solve for several variables:",
   "id": "95ead706a5652d3e"
  },
  {
   "metadata": {
    "ExecuteTime": {
     "end_time": "2025-08-09T15:29:46.263842Z",
     "start_time": "2025-08-09T15:29:46.255281Z"
    }
   },
   "cell_type": "code",
   "source": [
    "from sage.all import *\n",
    "x, y = var('x, y')\n",
    "solve([x+y==Integer(6), x-y==Integer(4)], x, y)"
   ],
   "id": "7332b2ce49f951d5",
   "outputs": [
    {
     "data": {
      "text/plain": [
       "[[x == 5, y == 1]]"
      ]
     },
     "execution_count": 16,
     "metadata": {},
     "output_type": "execute_result"
    }
   ],
   "execution_count": 16
  },
  {
   "metadata": {},
   "cell_type": "markdown",
   "source": "The following example of using Sage to solve a system of non-linear equations was provided by Jason Grout: first, we solve the system symbolically:",
   "id": "1b52966a97a92e03"
  },
  {
   "metadata": {
    "ExecuteTime": {
     "end_time": "2025-08-10T13:31:45.798806Z",
     "start_time": "2025-08-10T13:31:45.770077Z"
    }
   },
   "cell_type": "code",
   "source": [
    "from sage.all import *\n",
    "var('x y p q')\n",
    "eq1 = p+q==Integer(9)\n",
    "eq2 = q*y+p*x==-Integer(6)\n",
    "eq3 = q*y**Integer(2)+p*x**Integer(2)==Integer(24)\n",
    "solve([eq1,eq2,eq3,p==Integer(1)],p,q,x,y)"
   ],
   "id": "7da7058dacaad173",
   "outputs": [
    {
     "data": {
      "text/plain": [
       "[[p == 1, q == 8, x == -4/3*sqrt(10) - 2/3, y == 1/6*sqrt(10) - 2/3],\n",
       " [p == 1, q == 8, x == 4/3*sqrt(10) - 2/3, y == -1/6*sqrt(10) - 2/3]]"
      ]
     },
     "execution_count": 2,
     "metadata": {},
     "output_type": "execute_result"
    }
   ],
   "execution_count": 2
  },
  {
   "metadata": {},
   "cell_type": "markdown",
   "source": "For numerical approximations of the solutions, you can instead use:",
   "id": "98bb5bf37a2f5bfe"
  },
  {
   "metadata": {
    "ExecuteTime": {
     "end_time": "2025-08-10T13:32:29.841852Z",
     "start_time": "2025-08-10T13:32:29.811225Z"
    }
   },
   "cell_type": "code",
   "source": [
    "from sage.all import *\n",
    "solns = solve([eq1,eq2,eq3,p==Integer(1)],p,q,x,y, solution_dict=True)\n",
    "[[s[p].n(Integer(30)), s[q].n(Integer(30)), s[x].n(Integer(30)), s[y].n(Integer(30))] for s in solns]"
   ],
   "id": "ca573e557512dec7",
   "outputs": [
    {
     "data": {
      "text/plain": [
       "[[1.0000000, 8.0000000, -4.8830369, -0.13962039],\n",
       " [1.0000000, 8.0000000, 3.5497035, -1.1937129]]"
      ]
     },
     "execution_count": 3,
     "metadata": {},
     "output_type": "execute_result"
    }
   ],
   "execution_count": 3
  },
  {
   "metadata": {},
   "cell_type": "markdown",
   "source": [
    "# Solving Equations Numerically\n",
    "Often times, `solve` will not be able to find an exact solution to the equation or equations specified. When it fails, you can use `find_root` to find a numerical solution. For example, solve does not return anything interesting for the following equation:"
   ],
   "id": "fbcb5e0e6b3dcf66"
  },
  {
   "metadata": {
    "ExecuteTime": {
     "end_time": "2025-08-10T13:40:00.536432Z",
     "start_time": "2025-08-10T13:40:00.526313Z"
    }
   },
   "cell_type": "code",
   "source": [
    "from sage.all import *\n",
    "theta = var('theta')\n",
    "solve(cos(theta)==sin(theta), theta)"
   ],
   "id": "7dcd8dcddba1719d",
   "outputs": [
    {
     "data": {
      "text/plain": [
       "[sin(theta) == cos(theta)]"
      ]
     },
     "execution_count": 4,
     "metadata": {},
     "output_type": "execute_result"
    }
   ],
   "execution_count": 4
  },
  {
   "metadata": {},
   "cell_type": "markdown",
   "source": "On the other hand, we can use `find_root` to find a solution to the above equation in the range $0 < \\theta \\ < \\pi/2$:",
   "id": "75748515adea9ed4"
  },
  {
   "metadata": {
    "ExecuteTime": {
     "end_time": "2025-08-10T14:31:53.458681Z",
     "start_time": "2025-08-10T14:31:51.864437Z"
    }
   },
   "cell_type": "code",
   "source": [
    "from sage.all import *\n",
    "phi = var('phi')\n",
    "find_root(cos(phi)==sin(phi),Integer(0),pi/Integer(2))"
   ],
   "id": "8e396ec48319eda8",
   "outputs": [
    {
     "data": {
      "text/plain": [
       "0.7853981633974484"
      ]
     },
     "execution_count": 8,
     "metadata": {},
     "output_type": "execute_result"
    }
   ],
   "execution_count": 8
  },
  {
   "metadata": {},
   "cell_type": "markdown",
   "source": [
    "# Differentiation, Integration, etc.\n",
    "Sage knows how to differentiate and integrate many functions. For example, to differentiate $sin(u)$ with respect to $u$, do the following:"
   ],
   "id": "ac456491fda57cc2"
  },
  {
   "metadata": {
    "ExecuteTime": {
     "end_time": "2025-08-10T14:34:46.353143Z",
     "start_time": "2025-08-10T14:34:46.342031Z"
    }
   },
   "cell_type": "code",
   "source": [
    "from sage.all import *\n",
    "u = var('u')\n",
    "diff(sin(u), u)"
   ],
   "id": "1cc505d9c3deb04e",
   "outputs": [
    {
     "data": {
      "text/plain": [
       "cos(u)"
      ]
     },
     "execution_count": 9,
     "metadata": {},
     "output_type": "execute_result"
    }
   ],
   "execution_count": 9
  },
  {
   "metadata": {},
   "cell_type": "markdown",
   "source": "To compute the fourth derivative of $sin(x^2)$:",
   "id": "f55cf0ee30ebc4d8"
  },
  {
   "metadata": {
    "ExecuteTime": {
     "end_time": "2025-08-10T14:37:18.395562Z",
     "start_time": "2025-08-10T14:37:18.382936Z"
    }
   },
   "cell_type": "code",
   "source": [
    "from sage.all import *\n",
    "diff(sin(x**Integer(2)), x, Integer(4))"
   ],
   "id": "d0769e38fee34a7d",
   "outputs": [
    {
     "data": {
      "text/plain": [
       "16*x^4*sin(x^2) - 48*x^2*cos(x^2) - 12*sin(x^2)"
      ]
     },
     "execution_count": 10,
     "metadata": {},
     "output_type": "execute_result"
    }
   ],
   "execution_count": 10
  },
  {
   "metadata": {},
   "cell_type": "markdown",
   "source": "To compute the partial derivatives of $x^2+17y^2$ with respect to $x$ and $y$, respectively:",
   "id": "9d315b677ff797d6"
  },
  {
   "metadata": {
    "ExecuteTime": {
     "end_time": "2025-08-10T14:40:10.483935Z",
     "start_time": "2025-08-10T14:40:10.478289Z"
    }
   },
   "cell_type": "code",
   "source": [
    "from sage.all import *\n",
    "x, y = var('x,y')\n",
    "f = x**Integer(2) + Integer(17)*y**Integer(2)\n",
    "f.diff(x)"
   ],
   "id": "2f6e6bc5506fa21b",
   "outputs": [
    {
     "data": {
      "text/plain": [
       "2*x"
      ]
     },
     "execution_count": 20,
     "metadata": {},
     "output_type": "execute_result"
    }
   ],
   "execution_count": 20
  },
  {
   "metadata": {
    "ExecuteTime": {
     "end_time": "2025-08-10T14:40:11.287772Z",
     "start_time": "2025-08-10T14:40:11.283580Z"
    }
   },
   "cell_type": "code",
   "source": "f.diff(y)",
   "id": "e3ed3b3dc3ca4338",
   "outputs": [
    {
     "data": {
      "text/plain": [
       "34*y"
      ]
     },
     "execution_count": 21,
     "metadata": {},
     "output_type": "execute_result"
    }
   ],
   "execution_count": 21
  },
  {
   "metadata": {},
   "cell_type": "markdown",
   "source": "We move on to integrals, both indefinite and definite. To compute $\\int xsin(x)^2dx$ and $\\int^1_0 \\frac{x}{x^2+1}$",
   "id": "6a20df5e7f129b84"
  },
  {
   "metadata": {
    "ExecuteTime": {
     "end_time": "2025-08-10T14:47:02.174447Z",
     "start_time": "2025-08-10T14:47:02.150300Z"
    }
   },
   "cell_type": "code",
   "source": [
    "from sage.all import *\n",
    "integral(x*sin(x**Integer(2)), x)\n",
    "integral(x/(x**Integer(2)+Integer(1)), x, Integer(0), Integer(1))"
   ],
   "id": "eedc708f09d9c9d3",
   "outputs": [
    {
     "data": {
      "text/plain": [
       "1/2*log(2)"
      ]
     },
     "execution_count": 24,
     "metadata": {},
     "output_type": "execute_result"
    }
   ],
   "execution_count": 24
  },
  {
   "metadata": {},
   "cell_type": "markdown",
   "source": "To compute the partial fraction decomposition of $\\frac{1}{x^2-1}$",
   "id": "68313559ea8301e6"
  },
  {
   "metadata": {
    "ExecuteTime": {
     "end_time": "2025-08-10T14:47:37.275703Z",
     "start_time": "2025-08-10T14:47:37.265013Z"
    }
   },
   "cell_type": "code",
   "source": [
    "from sage.all import *\n",
    "f = Integer(1)/((Integer(1)+x)*(x-Integer(1)))\n",
    "f.partial_fraction(x)"
   ],
   "id": "9e12e0288dbfbcee",
   "outputs": [
    {
     "data": {
      "text/plain": [
       "-1/2/(x + 1) + 1/2/(x - 1)"
      ]
     },
     "execution_count": 25,
     "metadata": {},
     "output_type": "execute_result"
    }
   ],
   "execution_count": 25
  }
 ],
 "metadata": {
  "kernelspec": {
   "display_name": "SageMath 10.6",
   "language": "sage",
   "name": "sagemath-10.6"
  },
  "language_info": {
   "codemirror_mode": {
    "name": "ipython",
    "version": 2
   },
   "file_extension": ".py",
   "mimetype": "text/x-python",
   "name": "python",
   "nbconvert_exporter": "python",
   "pygments_lexer": "ipython2",
   "version": "2.7.6"
  }
 },
 "nbformat": 4,
 "nbformat_minor": 5
}
