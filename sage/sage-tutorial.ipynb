{
 "cells": [
  {
   "cell_type": "code",
   "execution_count": 6,
   "id": "initial_id",
   "metadata": {
    "ExecuteTime": {
     "end_time": "2025-08-10T13:24:05.903763Z",
     "start_time": "2025-08-10T13:24:05.898244Z"
    },
    "collapsed": true,
    "jupyter": {
     "outputs_hidden": true
    }
   },
   "outputs": [],
   "source": [
    "from sage.all import *\n",
    "\n",
    "def foo(n):\n",
    "    return factorial(n)"
   ]
  },
  {
   "cell_type": "code",
   "execution_count": 9,
   "id": "aca1b9045212f4ce",
   "metadata": {
    "ExecuteTime": {
     "end_time": "2025-08-10T13:24:11.472209Z",
     "start_time": "2025-08-10T13:24:11.469067Z"
    }
   },
   "outputs": [
    {
     "data": {
      "text/plain": [
       "24"
      ]
     },
     "execution_count": 9,
     "metadata": {},
     "output_type": "execute_result"
    }
   ],
   "source": [
    "foo(4)"
   ]
  },
  {
   "cell_type": "code",
   "execution_count": 10,
   "id": "56ff0ccc4ad63402",
   "metadata": {
    "ExecuteTime": {
     "end_time": "2025-08-10T13:24:23.133485Z",
     "start_time": "2025-08-10T13:24:23.122260Z"
    }
   },
   "outputs": [
    {
     "data": {
      "text/plain": [
       "e^2"
      ]
     },
     "execution_count": 10,
     "metadata": {},
     "output_type": "execute_result"
    }
   ],
   "source": [
    "from sage.all import *\n",
    "exp(Integer(2))"
   ]
  },
  {
   "cell_type": "code",
   "execution_count": 11,
   "id": "bd6a36f11c0830a1",
   "metadata": {
    "ExecuteTime": {
     "end_time": "2025-08-10T13:24:25.054595Z",
     "start_time": "2025-08-10T13:24:25.001619Z"
    }
   },
   "outputs": [
    {
     "data": {
      "text/plain": [
       "7.38905609893065"
      ]
     },
     "execution_count": 11,
     "metadata": {},
     "output_type": "execute_result"
    }
   ],
   "source": [
    "n(exp(Integer(2)))"
   ]
  },
  {
   "cell_type": "code",
   "execution_count": 45,
   "id": "91c2548cf8ebec76",
   "metadata": {
    "ExecuteTime": {
     "end_time": "2025-08-09T14:56:01.351629Z",
     "start_time": "2025-08-09T14:56:01.347760Z"
    }
   },
   "outputs": [
    {
     "data": {
      "text/plain": [
       "64"
      ]
     },
     "execution_count": 45,
     "metadata": {},
     "output_type": "execute_result"
    }
   ],
   "source": [
    "a = Integer(5); b = a + Integer(3); c = b**Integer(2); c"
   ]
  },
  {
   "cell_type": "markdown",
   "id": "4dcea47df12aa02d",
   "metadata": {},
   "source": [
    "The first line below is like `for(i=2;i<5;i++)`."
   ]
  },
  {
   "cell_type": "code",
   "execution_count": 46,
   "id": "5ad861e19f528465",
   "metadata": {
    "ExecuteTime": {
     "end_time": "2025-08-09T14:56:01.358915Z",
     "start_time": "2025-08-09T14:56:01.356599Z"
    }
   },
   "outputs": [
    {
     "name": "stdout",
     "output_type": "stream",
     "text": [
      "2\n",
      "3\n",
      "4\n"
     ]
    }
   ],
   "source": [
    "for i in range(Integer(2),Integer(5)):\n",
    "    print(i)"
   ]
  },
  {
   "cell_type": "markdown",
   "id": "b97a14f013791e52",
   "metadata": {},
   "source": [
    "The most basic data structure in Sage is the list, which is – as the name suggests – just a list of arbitrary objects. For example, using range, the following command creates a list:"
   ]
  },
  {
   "cell_type": "code",
   "execution_count": 47,
   "id": "1a3e491d6e009947",
   "metadata": {
    "ExecuteTime": {
     "end_time": "2025-08-09T14:56:01.371231Z",
     "start_time": "2025-08-09T14:56:01.368094Z"
    }
   },
   "outputs": [
    {
     "data": {
      "text/plain": [
       "[2, 3, 4, 5, 6, 7, 8, 9]"
      ]
     },
     "execution_count": 47,
     "metadata": {},
     "output_type": "execute_result"
    }
   ],
   "source": [
    "list(range(Integer(2),Integer(10)))"
   ]
  },
  {
   "cell_type": "markdown",
   "id": "2623ff8823fe732c",
   "metadata": {},
   "source": [
    "Often you will want to create a nice table to display numbers you have computed using Sage. One easy way to do this is to use string formatting. Below, we create three columns each of width exactly 6 and make a table of squares and cubes."
   ]
  },
  {
   "cell_type": "code",
   "execution_count": 48,
   "id": "c41b11b911f78ddb",
   "metadata": {
    "ExecuteTime": {
     "end_time": "2025-08-09T14:56:01.378598Z",
     "start_time": "2025-08-09T14:56:01.375489Z"
    }
   },
   "outputs": [
    {
     "name": "stdout",
     "output_type": "stream",
     "text": [
      "     0      0      0\n",
      "     1      1      1\n",
      "     2      4      8\n",
      "     3      9     27\n",
      "     4     16     64\n"
     ]
    }
   ],
   "source": [
    "from sage.all import *\n",
    "for i in range(Integer(5)):\n",
    "    print('%6s %6s %6s' % (i, i**Integer(2), i**Integer(3)))"
   ]
  },
  {
   "cell_type": "markdown",
   "id": "102e08a0b9067572",
   "metadata": {},
   "source": [
    "The most basic data structure in Sage is the list, which is – as the name suggests – just a list of arbitrary objects. For example, using range, the following command creates a list:"
   ]
  },
  {
   "cell_type": "code",
   "execution_count": 49,
   "id": "9b37bf0411dfc9c6",
   "metadata": {
    "ExecuteTime": {
     "end_time": "2025-08-09T14:56:01.385674Z",
     "start_time": "2025-08-09T14:56:01.382435Z"
    }
   },
   "outputs": [
    {
     "data": {
      "text/plain": [
       "[2, 3, 4, 5, 6, 7, 8, 9]"
      ]
     },
     "execution_count": 49,
     "metadata": {},
     "output_type": "execute_result"
    }
   ],
   "source": [
    "from sage.all import *\n",
    "list(range(Integer(2),Integer(10)))"
   ]
  },
  {
   "cell_type": "markdown",
   "id": "c54a58aa22ea01c3",
   "metadata": {},
   "source": [
    "Here is a more complicated list:"
   ]
  },
  {
   "cell_type": "code",
   "execution_count": 50,
   "id": "391919ed6e0341a0",
   "metadata": {
    "ExecuteTime": {
     "end_time": "2025-08-09T14:56:01.398782Z",
     "start_time": "2025-08-09T14:56:01.393898Z"
    }
   },
   "outputs": [
    {
     "data": {
      "text/plain": [
       "[1, 'hello', 2/3, sin(x^3)]"
      ]
     },
     "execution_count": 50,
     "metadata": {},
     "output_type": "execute_result"
    }
   ],
   "source": [
    "from sage.all import *\n",
    "v = [Integer(1), \"hello\", Integer(2)/Integer(3), sin(x**Integer(3))]\n",
    "v"
   ]
  },
  {
   "cell_type": "markdown",
   "id": "b7fa7c92a930c5b2",
   "metadata": {},
   "source": [
    "List indexing is 0-based, as in many programming languages."
   ]
  },
  {
   "cell_type": "code",
   "execution_count": 51,
   "id": "8597ac1e1f60a802",
   "metadata": {
    "ExecuteTime": {
     "end_time": "2025-08-09T14:56:01.408499Z",
     "start_time": "2025-08-09T14:56:01.405123Z"
    }
   },
   "outputs": [
    {
     "data": {
      "text/plain": [
       "sin(x^3)"
      ]
     },
     "execution_count": 51,
     "metadata": {},
     "output_type": "execute_result"
    }
   ],
   "source": [
    "from sage.all import *\n",
    "v[Integer(0)]\n",
    "v[Integer(3)]"
   ]
  },
  {
   "cell_type": "markdown",
   "id": "a6d6ea8554e503c1",
   "metadata": {},
   "source": [
    "Use len(v) to get the length of v, use v.append(obj) to append a new object to the end of v, and use del v[i] to delete the\n",
    " entry of v:\n",
    "\n"
   ]
  },
  {
   "cell_type": "code",
   "execution_count": 52,
   "id": "5e368beba62d464f",
   "metadata": {
    "ExecuteTime": {
     "end_time": "2025-08-09T14:56:01.416676Z",
     "start_time": "2025-08-09T14:56:01.412888Z"
    }
   },
   "outputs": [
    {
     "data": {
      "text/plain": [
       "[1, 2/3, sin(x^3), 1.50000000000000]"
      ]
     },
     "execution_count": 52,
     "metadata": {},
     "output_type": "execute_result"
    }
   ],
   "source": [
    "from sage.all import *\n",
    "len(v)\n",
    "v.append(RealNumber('1.5'))\n",
    "v\n",
    "del v[Integer(1)]\n",
    "v"
   ]
  },
  {
   "cell_type": "markdown",
   "id": "e92d978a076ff694",
   "metadata": {},
   "source": [
    "Another important data structure is the dictionary (or associative array). This works like a list, except that it can be indexed with almost any object (the indices must be immutable):"
   ]
  },
  {
   "cell_type": "code",
   "execution_count": 53,
   "id": "8da73a90c8268f8d",
   "metadata": {
    "ExecuteTime": {
     "end_time": "2025-08-09T14:56:01.426776Z",
     "start_time": "2025-08-09T14:56:01.423062Z"
    }
   },
   "outputs": [
    {
     "data": {
      "text/plain": [
       "pi"
      ]
     },
     "execution_count": 53,
     "metadata": {},
     "output_type": "execute_result"
    }
   ],
   "source": [
    "from sage.all import *\n",
    "d = {'hi':-Integer(2),  Integer(3)/Integer(8):pi,   e:pi}\n",
    "d['hi']\n",
    "d[e]"
   ]
  },
  {
   "cell_type": "markdown",
   "id": "e54cb56d91eb9f56",
   "metadata": {},
   "source": [
    "You can also define new data types using classes. Encapsulating mathematical objects with classes is a powerful technique that can help to simplify and organize your Sage programs. Below, we define a class that represents the list of even positive integers up to n; it derives from the builtin type list."
   ]
  },
  {
   "cell_type": "code",
   "execution_count": 2,
   "id": "6ff2d41123902073",
   "metadata": {
    "ExecuteTime": {
     "end_time": "2025-08-10T13:30:59.628776Z",
     "start_time": "2025-08-10T13:30:59.618610Z"
    }
   },
   "outputs": [
    {
     "data": {
      "text/plain": [
       "Even positive numbers up to n."
      ]
     },
     "execution_count": 2,
     "metadata": {},
     "output_type": "execute_result"
    }
   ],
   "source": [
    "from sage.all import *\n",
    "class Evens(list):\n",
    "    def __init__(self, n):\n",
    "        self.n = n\n",
    "        list.__init__(self, range(Integer(2), n+Integer(1), Integer(2)))\n",
    "    def __repr__(self):\n",
    "        return \"Even positive numbers up to n.\"\n",
    "\n",
    "e = Evens(Integer(10))\n",
    "e"
   ]
  },
  {
   "cell_type": "markdown",
   "id": "316b75656317a273",
   "metadata": {},
   "source": [
    "Note that e prints using the __repr__ method that we defined. To see the underlying list of numbers, use the list function:"
   ]
  },
  {
   "cell_type": "code",
   "execution_count": 55,
   "id": "b4a4685fb3b1c6ae",
   "metadata": {
    "ExecuteTime": {
     "end_time": "2025-08-09T14:56:01.439907Z",
     "start_time": "2025-08-09T14:56:01.437110Z"
    }
   },
   "outputs": [
    {
     "data": {
      "text/plain": [
       "[2, 4, 6, 8, 10]"
      ]
     },
     "execution_count": 55,
     "metadata": {},
     "output_type": "execute_result"
    }
   ],
   "source": [
    "list(e)"
   ]
  },
  {
   "cell_type": "markdown",
   "id": "3840a2a5b80122e9",
   "metadata": {},
   "source": [
    "We can also access the n attribute or treat e like a list."
   ]
  },
  {
   "cell_type": "code",
   "execution_count": 56,
   "id": "456337b4be933394",
   "metadata": {
    "ExecuteTime": {
     "end_time": "2025-08-09T14:56:01.446213Z",
     "start_time": "2025-08-09T14:56:01.443621Z"
    }
   },
   "outputs": [
    {
     "data": {
      "text/plain": [
       "10"
      ]
     },
     "execution_count": 56,
     "metadata": {},
     "output_type": "execute_result"
    }
   ],
   "source": [
    "e.n"
   ]
  },
  {
   "cell_type": "code",
   "execution_count": 57,
   "id": "3a8c3ced258a164b",
   "metadata": {
    "ExecuteTime": {
     "end_time": "2025-08-09T14:56:01.455523Z",
     "start_time": "2025-08-09T14:56:01.452717Z"
    }
   },
   "outputs": [
    {
     "data": {
      "text/plain": [
       "6"
      ]
     },
     "execution_count": 57,
     "metadata": {},
     "output_type": "execute_result"
    }
   ],
   "source": [
    "e[Integer(2)]"
   ]
  }
 ],
 "metadata": {
  "kernelspec": {
   "display_name": "SageMath 10.6",
   "language": "sage",
   "name": "sagemath-10.6"
  },
  "language_info": {
   "codemirror_mode": {
    "name": "ipython",
    "version": 3
   },
   "file_extension": ".py",
   "mimetype": "text/x-python",
   "name": "python",
   "nbconvert_exporter": "python",
   "pygments_lexer": "ipython3",
   "version": "3.12.5"
  }
 },
 "nbformat": 4,
 "nbformat_minor": 5
}
