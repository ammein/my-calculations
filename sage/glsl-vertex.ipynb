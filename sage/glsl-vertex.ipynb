{
 "cells": [
  {
   "cell_type": "markdown",
   "id": "4dc92e7c23496873",
   "metadata": {
    "collapsed": true,
    "jupyter": {
     "outputs_hidden": true
    }
   },
   "source": [
    "```glsl\n",
    "out vec3 ray;\n",
    "in vec3 position;\n",
    "uniform float cameraFov;\n",
    "uniform vec2 resolution;\n",
    "uniform mat4 viewMatrix;\n",
    "\n",
    "void main() {\n",
    "  gl_Position = vec4(position.xy, 0, 1);\n",
    "  float aspect = resolution.y / resolution.x;\n",
    "  vec2 uv = vec2(position.x, position.y * aspect);\n",
    "  float cameraDistance = (1.0 / tan(cameraFov / 2.0)) * aspect;\n",
    "  ray = normalize(vec3(uv, -cameraDistance) * mat3(viewMatrix));\n",
    "}\n",
    "```"
   ]
  },
  {
   "cell_type": "code",
   "execution_count": 79,
   "id": "2080b42937ee680c",
   "metadata": {
    "ExecuteTime": {
     "end_time": "2025-08-12T04:43:25.271871Z",
     "start_time": "2025-08-12T04:43:25.263136Z"
    }
   },
   "outputs": [],
   "source": [
    "import logging\n",
    "logger = logging.getLogger()\n",
    "logger.setLevel(logging.DEBUG)\n",
    "from sage.all import *\n",
    "import math\n",
    "\n",
    "def normalize(v):\n",
    "    n = v.norm()\n",
    "    return v / n if n > 0 else v\n",
    "\n",
    "def cross_product(a, b):\n",
    "    logger(a)\n",
    "    return a.cross(b)\n",
    "\n",
    "def subtract(a, b):\n",
    "    return a - b\n",
    "\n",
    "def dot(a, b):\n",
    "    return sum(a[i]*b[i] for i in range(len(a)))\n",
    "\n",
    "def look_at_matrix(eye, at, up):\n",
    "    \"\"\" Look at matrix calculations\n",
    "\n",
    "    :param eye:\n",
    "    :var eye: vector\n",
    "    :param at:\n",
    "    :param up:\n",
    "    :return:\n",
    "    \"\"\"\n",
    "    # Step 1: Compute z-axis\n",
    "    zaxis = normalize(subtract(eye, at))\n",
    "\n",
    "    # Step 2: Compute x-axis\n",
    "    xaxis = normalize(cross_product(up, zaxis))\n",
    "\n",
    "    # Step 3: Compute y-axis\n",
    "    yaxis = cross_product(zaxis, xaxis)\n",
    "\n",
    "    # Step 4: Create view matrix (right-handed)\n",
    "    view = matrix([\n",
    "        [xaxis[0], yaxis[0], zaxis[0], 0],\n",
    "        [xaxis[1], yaxis[1], zaxis[1], 0],\n",
    "        [xaxis[2], yaxis[2], zaxis[2], 0],\n",
    "        [-dot(xaxis, eye), -dot(yaxis, eye), -dot(zaxis, eye), 1]\n",
    "    ])\n",
    "\n",
    "    return view\n",
    "\n",
    "def mat4_to_mat3_sage(mat4):\n",
    "    if mat4.nrows() != 4 or mat4.ncols() != 4:\n",
    "        raise ValueError(\"Matrix must be 4x4\")\n",
    "    return mat4[0:3, 0:3]  # top-left 3x3 submatrix"
   ]
  },
  {
   "cell_type": "code",
   "execution_count": 80,
   "id": "ddb77925a2f4b487",
   "metadata": {
    "ExecuteTime": {
     "end_time": "2025-08-12T04:43:25.304913Z",
     "start_time": "2025-08-12T04:43:25.278758Z"
    }
   },
   "outputs": [
    {
     "ename": "TypeError",
     "evalue": "'RootLogger' object is not callable",
     "output_type": "error",
     "traceback": [
      "\u001b[0;31m---------------------------------------------------------------------------\u001b[0m",
      "\u001b[0;31mTypeError\u001b[0m                                 Traceback (most recent call last)",
      "Cell \u001b[0;32mIn[80], line 11\u001b[0m\n\u001b[1;32m      9\u001b[0m uv \u001b[38;5;241m=\u001b[39m vector([position[Integer(\u001b[38;5;241m0\u001b[39m)], position[Integer(\u001b[38;5;241m1\u001b[39m)] \u001b[38;5;241m*\u001b[39m aspect])\n\u001b[1;32m     10\u001b[0m cameraDistance \u001b[38;5;241m=\u001b[39m (RealNumber(\u001b[38;5;124m'\u001b[39m\u001b[38;5;124m1.0\u001b[39m\u001b[38;5;124m'\u001b[39m) \u001b[38;5;241m/\u001b[39m tan(cameraFov \u001b[38;5;241m/\u001b[39m RealNumber(\u001b[38;5;124m'\u001b[39m\u001b[38;5;124m2.0\u001b[39m\u001b[38;5;124m'\u001b[39m))) \u001b[38;5;241m*\u001b[39m aspect\n\u001b[0;32m---> 11\u001b[0m viewMatrix \u001b[38;5;241m=\u001b[39m \u001b[43mlook_at_matrix\u001b[49m\u001b[43m(\u001b[49m\u001b[43meye\u001b[49m\u001b[43m,\u001b[49m\u001b[43m \u001b[49m\u001b[43mat\u001b[49m\u001b[43m,\u001b[49m\u001b[43m \u001b[49m\u001b[43mup\u001b[49m\u001b[43m)\u001b[49m\n\u001b[1;32m     12\u001b[0m ray \u001b[38;5;241m=\u001b[39m normalize(vector([uv[Integer(\u001b[38;5;241m0\u001b[39m)], uv[Integer(\u001b[38;5;241m1\u001b[39m)], \u001b[38;5;241m-\u001b[39mcameraDistance]) \u001b[38;5;241m*\u001b[39m mat4_to_mat3_sage(viewMatrix))\n",
      "Cell \u001b[0;32mIn[79], line 34\u001b[0m, in \u001b[0;36mlook_at_matrix\u001b[0;34m(eye, at, up)\u001b[0m\n\u001b[1;32m     31\u001b[0m zaxis \u001b[38;5;241m=\u001b[39m normalize(subtract(eye, at))\n\u001b[1;32m     33\u001b[0m \u001b[38;5;66;03m# Step 2: Compute x-axis\u001b[39;00m\n\u001b[0;32m---> 34\u001b[0m xaxis \u001b[38;5;241m=\u001b[39m normalize(\u001b[43mcross_product\u001b[49m\u001b[43m(\u001b[49m\u001b[43mup\u001b[49m\u001b[43m,\u001b[49m\u001b[43m \u001b[49m\u001b[43mzaxis\u001b[49m\u001b[43m)\u001b[49m)\n\u001b[1;32m     36\u001b[0m \u001b[38;5;66;03m# Step 3: Compute y-axis\u001b[39;00m\n\u001b[1;32m     37\u001b[0m yaxis \u001b[38;5;241m=\u001b[39m cross_product(zaxis, xaxis)\n",
      "Cell \u001b[0;32mIn[79], line 12\u001b[0m, in \u001b[0;36mcross_product\u001b[0;34m(a, b)\u001b[0m\n\u001b[1;32m     11\u001b[0m \u001b[38;5;28;01mdef\u001b[39;00m\u001b[38;5;250m \u001b[39m\u001b[38;5;21mcross_product\u001b[39m(a, b):\n\u001b[0;32m---> 12\u001b[0m     \u001b[43mlogger\u001b[49m\u001b[43m(\u001b[49m\u001b[43ma\u001b[49m\u001b[43m)\u001b[49m\n\u001b[1;32m     13\u001b[0m     \u001b[38;5;28;01mreturn\u001b[39;00m a\u001b[38;5;241m.\u001b[39mcross(b)\n",
      "\u001b[0;31mTypeError\u001b[0m: 'RootLogger' object is not callable"
     ]
    }
   ],
   "source": [
    "cameraFov, resolution, viewMatrix, eye, at, up, position = var('cameraFov, resolution, viewMatrix, eye, at, up, position')\n",
    "cameraFov = 2.0\n",
    "resolution = vector([500,500])\n",
    "up = vector([0.0,1.0,0.0])\n",
    "at = vector([0.0,0.0,0.0])\n",
    "eye = vector([0.0,0.5,1.0])\n",
    "position = vector([0.0,0.0,0.0])\n",
    "aspect = resolution[1]/resolution[0]\n",
    "uv = vector([position[0], position[1] * aspect])\n",
    "cameraDistance = (1.0 / tan(cameraFov / 2.0)) * aspect\n",
    "viewMatrix = look_at_matrix(eye, at, up)\n",
    "ray = normalize(vector([uv[0], uv[1], -cameraDistance]) * mat4_to_mat3_sage(viewMatrix))"
   ]
  },
  {
   "cell_type": "code",
   "execution_count": 20,
   "id": "f98a45aa79c16bfa",
   "metadata": {
    "ExecuteTime": {
     "end_time": "2025-08-12T04:43:25.308611Z",
     "start_time": "2025-08-12T03:18:01.191285Z"
    }
   },
   "outputs": [
    {
     "data": {
      "application/vnd.jupyter.widget-view+json": {
       "model_id": "0235bdc55a64472ea53605d2640b07a2",
       "version_major": 2,
       "version_minor": 0
      },
      "text/plain": [
       "Interactive function <function ray_plot at 0x346007e20> with 1 widget\n",
       "  size: SelectionSlider(description='size', options=(0.100000000000000, 0.200000000000000, 0.300000000000000, 0.400000000000000, 0.500000000000000, 0.600000000000000, 0.700000000000000, 0.800000000000000, 0.900000000000000, 1.00000000000000), value=0.100000000000000)"
      ]
     },
     "metadata": {},
     "output_type": "display_data"
    }
   ],
   "source": [
    "@interact\n",
    "def ray_plot(size=slider([0.1, 0.2, .. 1.0])):\n",
    "    P = sphere(position, size=size, opacity = 0.5)\n",
    "    C = sphere(eye, size = 0.1, legend_label=\"Camera\", color = \"red\")\n",
    "    L = line3d((ray, position), thickness=2.0, arrow_head=true, color=\"red\", legend_label=\"ray\")\n",
    "    show(P + C + L)"
   ]
  },
  {
   "cell_type": "code",
   "execution_count": 90,
   "id": "342f4c0137eaffa",
   "metadata": {
    "ExecuteTime": {
     "end_time": "2025-08-12T04:43:25.308843Z",
     "start_time": "2025-08-12T02:50:52.898699Z"
    }
   },
   "outputs": [
    {
     "data": {
      "application/vnd.jupyter.widget-view+json": {
       "model_id": "12c48308cf4a485bb175a1cb64ee8da4",
       "version_major": 2,
       "version_minor": 0
      },
      "text/plain": [
       "Interactive function <function myplot at 0x375867560> with 1 widget\n",
       "  f: EvalText(value='x^2', description='f')"
      ]
     },
     "metadata": {},
     "output_type": "display_data"
    }
   ],
   "source": [
    "from sage.all import *\n",
    "@interact\n",
    "def myplot(f=x**Integer(2)):\n",
    "    show(plot(f,(x,-Integer(3),Integer(3))))"
   ]
  },
  {
   "cell_type": "code",
   "execution_count": null,
   "id": "3a6b4d16-ec54-437d-a26c-522f1c534b39",
   "metadata": {},
   "outputs": [],
   "source": []
  }
 ],
 "metadata": {
  "kernelspec": {
   "display_name": "SageMath 10.6",
   "language": "sage",
   "name": "sagemath"
  },
  "language_info": {
   "codemirror_mode": {
    "name": "ipython",
    "version": 3
   },
   "file_extension": ".py",
   "mimetype": "text/x-python",
   "name": "python",
   "nbconvert_exporter": "python",
   "pygments_lexer": "ipython3",
   "version": "3.12.11"
  }
 },
 "nbformat": 4,
 "nbformat_minor": 5
}
