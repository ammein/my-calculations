{
 "cells": [
  {
   "cell_type": "markdown",
   "id": "4dc92e7c23496873",
   "metadata": {
    "collapsed": true,
    "jupyter": {
     "outputs_hidden": true
    }
   },
   "source": [
    "```glsl\n",
    "out vec3 ray;\n",
    "in vec3 position;\n",
    "uniform float cameraFov;\n",
    "uniform vec2 resolution;\n",
    "uniform mat4 viewMatrix;\n",
    "\n",
    "void main() {\n",
    "  gl_Position = vec4(position.xy, 0, 1);\n",
    "  float aspect = resolution.y / resolution.x;\n",
    "  vec2 uv = vec2(position.x, position.y * aspect);\n",
    "  float cameraDistance = (1.0 / tan(cameraFov / 2.0)) * aspect;\n",
    "  ray = normalize(vec3(uv, -cameraDistance) * mat3(viewMatrix));\n",
    "}\n",
    "```"
   ]
  },
  {
   "cell_type": "code",
   "execution_count": 51,
   "id": "2080b42937ee680c",
   "metadata": {
    "ExecuteTime": {
     "end_time": "2025-08-11T14:55:26.712930Z",
     "start_time": "2025-08-11T14:55:26.702253Z"
    }
   },
   "outputs": [],
   "source": [
    "from sage.all import *\n",
    "import math\n",
    "\n",
    "from sage.combinat.output import box_exists\n",
    "\n",
    "\n",
    "def normalize(v):\n",
    "    magnitude = math.sqrt(sum(i ** 2 for i in range(len(v))))\n",
    "    return vector((i/magnitude for i in range(len(v))))\n",
    "\n",
    "def cross_product(a, b):\n",
    "    # Promote 2D to 3D by adding z=0\n",
    "    if len(a) == 2:\n",
    "        a = [a[0], a[1], 0]\n",
    "    if len(b) == 2:\n",
    "        b = [b[0], b[1], 0]\n",
    "\n",
    "    # Check dimension\n",
    "    if len(a) != 3 or len(b) != 3:\n",
    "        raise ValueError(\"Vectors must be 2D or 3D\")\n",
    "\n",
    "    # Compute 3D cross product\n",
    "    return [\n",
    "        a[1]*b[2] - a[2]*b[1],\n",
    "        a[2]*b[0] - a[0]*b[2],\n",
    "        a[0]*b[1] - a[1]*b[0]\n",
    "    ]\n",
    "\n",
    "def subtract(a, b):\n",
    "    return [a[i] - b[i] for i in range(len(a))]\n",
    "\n",
    "def dot(a, b):\n",
    "    return sum(a[i]*b[i] for i in range(len(a)))\n",
    "\n",
    "def look_at_matrix(eye, at, up):\n",
    "    # Step 1: Compute z-axis\n",
    "    zaxis = normalize(subtract(eye, at))\n",
    "\n",
    "    # Step 2: Compute x-axis\n",
    "    xaxis = normalize(cross_product(up, zaxis))\n",
    "\n",
    "    # Step 3: Compute y-axis\n",
    "    yaxis = cross_product(zaxis, xaxis)\n",
    "\n",
    "    # Step 4: Create view matrix (right-handed)\n",
    "    view = matrix([\n",
    "        [xaxis[0], yaxis[0], zaxis[0], 0],\n",
    "        [xaxis[1], yaxis[1], zaxis[1], 0],\n",
    "        [xaxis[2], yaxis[2], zaxis[2], 0],\n",
    "        [-dot(xaxis, eye), -dot(yaxis, eye), -dot(zaxis, eye), 1]\n",
    "    ])\n",
    "\n",
    "    return view\n",
    "\n",
    "def mat4_to_mat3_sage(mat4):\n",
    "    if mat4.nrows() != 4 or mat4.ncols() != 4:\n",
    "        raise ValueError(\"Matrix must be 4x4\")\n",
    "    return mat4[0:3, 0:3]  # top-left 3x3 submatrix\n"
   ]
  },
  {
   "cell_type": "code",
   "execution_count": 52,
   "id": "ddb77925a2f4b487",
   "metadata": {
    "ExecuteTime": {
     "end_time": "2025-08-11T14:55:26.720066Z",
     "start_time": "2025-08-11T14:55:26.715689Z"
    }
   },
   "outputs": [],
   "source": [
    "from sage.all import *\n",
    "cameraFov, resolution, viewMatrix, eye, at, up, position = var('cameraFov, resolution, viewMatrix, eye, at, up, position')\n",
    "cameraFov = 2.0\n",
    "resolution = vector([500,500])\n",
    "up = vector([0.0,1.0,0.0])\n",
    "at = vector([0.0,0.0,0.0])\n",
    "eye = vector([0.0,0.5,1.0])\n",
    "position = vector([0.0,0.0,0.0])\n",
    "aspect = resolution[1]/resolution[0]\n",
    "uv = vector([position[0], position[1] * aspect])\n",
    "cameraDistance = (1.0 / tan(cameraFov / 2.0)) * aspect\n",
    "viewMatrix = look_at_matrix(eye, at, up)\n",
    "ray = normalize(vector([uv[0], uv[1], -cameraDistance]) * mat4_to_mat3_sage(viewMatrix))"
   ]
  },
  {
   "cell_type": "code",
   "id": "f98a45aa79c16bfa",
   "metadata": {
    "ExecuteTime": {
     "end_time": "2025-08-11T15:03:56.546243Z",
     "start_time": "2025-08-11T15:03:56.527796Z"
    }
   },
   "source": [
    "@interact\n",
    "def ray_plot(size=slider([0.1, 0.2, .. 1.0])):\n",
    "    P = sphere(position, size=size, opacity = 0.5)\n",
    "    C = sphere(eye, size = 0.1, legend_label=\"Camera\", color = \"red\")\n",
    "    L = line3d((ray, position), thickness=2.0, arrow_head=true, color=\"red\", legend_label=\"ray\")\n",
    "    show(P + C + L, viewer='threejs').legend(True)"
   ],
   "outputs": [
    {
     "data": {
      "application/vnd.jupyter.widget-view+json": {
       "version_major": 2,
       "version_minor": 0,
       "model_id": "78b3e1a0247a4f829df8241b8253607e"
      },
      "text/plain": [
       "Interactive function <function ray_plot at 0x16de400e0> with 1 widget\n",
       "  size: SelectionSlider(description='size', options=(0.100000000000000, 0.200000000000000, 0.300000000000000, 0.400000000000000, 0.500000000000000, 0.600000000000000, 0.700000000000000, 0.800000000000000, 0.900000000000000, 1.00000000000000), value=0.100000000000000)"
      ]
     },
     "metadata": {},
     "output_type": "display_data"
    }
   ],
   "execution_count": 74
  },
  {
   "cell_type": "code",
   "execution_count": 54,
   "id": "342f4c0137eaffa",
   "metadata": {
    "ExecuteTime": {
     "end_time": "2025-08-11T14:55:26.796748Z",
     "start_time": "2025-08-11T14:55:26.740692Z"
    }
   },
   "outputs": [
    {
     "data": {
      "application/vnd.jupyter.widget-view+json": {
       "model_id": "b321b80b240443838c17347dca2b7970",
       "version_major": 2,
       "version_minor": 0
      },
      "text/plain": [
       "Interactive function <function myplot at 0x16e44a520> with 1 widget\n",
       "  f: EvalText(value='x^2', description='f')"
      ]
     },
     "metadata": {},
     "output_type": "display_data"
    }
   ],
   "source": [
    "from sage.all import *\n",
    "@interact\n",
    "def myplot(f=x**Integer(2)):\n",
    "    show(plot(f,(x,-Integer(3),Integer(3))))"
   ]
  }
 ],
 "metadata": {
  "kernelspec": {
   "display_name": "SageMath 10.6",
   "language": "sage",
   "name": "sagemath"
  },
  "language_info": {
   "codemirror_mode": {
    "name": "ipython",
    "version": 3
   },
   "file_extension": ".py",
   "mimetype": "text/x-python",
   "name": "python",
   "nbconvert_exporter": "python",
   "pygments_lexer": "ipython3",
   "version": "3.12.11"
  }
 },
 "nbformat": 4,
 "nbformat_minor": 5
}
