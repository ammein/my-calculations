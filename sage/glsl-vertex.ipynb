{
 "cells": [
  {
   "cell_type": "markdown",
   "id": "4dc92e7c23496873",
   "metadata": {
    "collapsed": true,
    "jupyter": {
     "outputs_hidden": true
    }
   },
   "source": [
    "```glsl\n",
    "out vec3 ray;\n",
    "in vec3 position;\n",
    "uniform float cameraFov;\n",
    "uniform vec2 resolution;\n",
    "uniform mat4 viewMatrix;\n",
    "\n",
    "void main() {\n",
    "  gl_Position = vec4(position.xy, 0, 1);\n",
    "  float aspect = resolution.y / resolution.x;\n",
    "  vec2 uv = vec2(position.x, position.y * aspect);\n",
    "  float cameraDistance = (1.0 / tan(cameraFov / 2.0)) * aspect;\n",
    "  ray = normalize(vec3(uv, -cameraDistance) * mat3(viewMatrix));\n",
    "}\n",
    "```"
   ]
  },
  {
   "cell_type": "code",
   "id": "2080b42937ee680c",
   "metadata": {
    "ExecuteTime": {
     "end_time": "2025-08-12T15:38:00.802307Z",
     "start_time": "2025-08-12T15:38:00.798045Z"
    }
   },
   "source": [
    "from sage.all import *\n",
    "\n",
    "def normalize(v):\n",
    "    n = v.norm()\n",
    "    return v / n if n > 0 else v\n",
    "\n",
    "def look_at_matrix(eye, at, up):\n",
    "    # Step 1: Compute z-axis\n",
    "    zaxis = normalize(at - eye)\n",
    "\n",
    "    # Step 2: Compute x-axis\n",
    "    xaxis = normalize(zaxis.cross_product(up))\n",
    "\n",
    "    # Step 3: Compute y-axis\n",
    "    yaxis = xaxis.cross_product(zaxis)\n",
    "\n",
    "    # Step 4: Create view matrix (right-handed)\n",
    "    view = matrix([\n",
    "        [xaxis[0], yaxis[0], zaxis[0], 0],\n",
    "        [xaxis[1], yaxis[1], zaxis[1], 0],\n",
    "        [xaxis[2], yaxis[2], zaxis[2], 0],\n",
    "        [-xaxis.dot_product(eye), -yaxis.dot_product(eye), -zaxis.dot_product(eye), 1]\n",
    "    ])\n",
    "\n",
    "    return view\n",
    "\n",
    "def mat4_to_mat3_sage(mat4):\n",
    "    if mat4.nrows() != 4 or mat4.ncols() != 4:\n",
    "        raise ValueError(\"Matrix must be 4x4\")\n",
    "    return mat4[0:3, 0:3]  # top-left 3x3 submatrix"
   ],
   "outputs": [],
   "execution_count": 50
  },
  {
   "cell_type": "code",
   "id": "ddb77925a2f4b487",
   "metadata": {
    "ExecuteTime": {
     "end_time": "2025-08-12T15:38:03.314320Z",
     "start_time": "2025-08-12T15:38:03.308026Z"
    }
   },
   "source": [
    "cameraFov, resolution, viewMatrix, eye, at, up, position = var('cameraFov, resolution, viewMatrix, eye, at, up, position')\n",
    "cameraFov = 2.0\n",
    "resolution = vector([500,500])\n",
    "up = vector([0.0,1.0,0.0])\n",
    "at = vector([0.0,0.0,0.0])\n",
    "eye = vector([0.0,0.5,1.0])\n",
    "position = vector([0.0,0.0,0.0])\n",
    "aspect = resolution[1]/resolution[0]\n",
    "uv = vector([position[0], position[1] * aspect])\n",
    "cameraDistance = (1.0 / tan(cameraFov / 2.0)) * aspect\n",
    "viewMatrix = look_at_matrix(eye, at, up)\n",
    "ray = normalize(vector([uv[0], uv[1], -cameraDistance]) * mat4_to_mat3_sage(viewMatrix))"
   ],
   "outputs": [],
   "execution_count": 51
  },
  {
   "cell_type": "code",
   "id": "f98a45aa79c16bfa",
   "metadata": {
    "ExecuteTime": {
     "end_time": "2025-08-12T15:38:39.763097Z",
     "start_time": "2025-08-12T15:38:39.754536Z"
    }
   },
   "source": [
    "@interact\n",
    "def ray_plot(size=slider([0.1, 0.2, .. 1.0])):\n",
    "    P = sphere(position, size=size, opacity = 0.5)\n",
    "    C = sphere(eye, size = 0.1, legend_label=\"Camera\", color = \"red\")\n",
    "    L = line3d((ray, position), thickness=2.0, arrow_head=true, color=\"red\", legend_label=\"ray\")\n",
    "    show(P + C + L)"
   ],
   "outputs": [
    {
     "data": {
      "application/vnd.jupyter.widget-view+json": {
       "version_major": 2,
       "version_minor": 0,
       "model_id": "cc547bcae87343568744eacd7be23baa"
      },
      "text/plain": [
       "Interactive function <function ray_plot at 0x167be0540> with 1 widget\n",
       "  size: SelectionSlider(description='size', options=(0.100000000000000, 0.200000000000000, 0.300000000000000, 0.400000000000000, 0.500000000000000, 0.600000000000000, 0.700000000000000, 0.800000000000000, 0.900000000000000, 1.00000000000000), value=0.100000000000000)"
      ]
     },
     "metadata": {},
     "output_type": "display_data"
    }
   ],
   "execution_count": 53
  },
  {
   "cell_type": "code",
   "id": "342f4c0137eaffa",
   "metadata": {
    "ExecuteTime": {
     "end_time": "2025-08-12T15:18:48.361223Z",
     "start_time": "2025-08-12T15:18:48.303353Z"
    }
   },
   "source": [
    "from sage.all import *\n",
    "@interact\n",
    "def myplot(f=x**Integer(2)):\n",
    "    show(plot(f,(x,-Integer(3),Integer(3))))"
   ],
   "outputs": [
    {
     "data": {
      "application/vnd.jupyter.widget-view+json": {
       "version_major": 2,
       "version_minor": 0,
       "model_id": "5f69403c5b694560b85789007d265036"
      },
      "text/plain": [
       "Interactive function <function myplot at 0x167adfd80> with 1 widget\n",
       "  f: EvalText(value='x^2', description='f')"
      ]
     },
     "metadata": {},
     "output_type": "display_data"
    }
   ],
   "execution_count": 34
  },
  {
   "cell_type": "code",
   "id": "3a6b4d16-ec54-437d-a26c-522f1c534b39",
   "metadata": {
    "ExecuteTime": {
     "end_time": "2025-08-12T15:18:48.367840Z",
     "start_time": "2025-08-12T15:18:48.366606Z"
    }
   },
   "source": [],
   "outputs": [],
   "execution_count": null
  }
 ],
 "metadata": {
  "kernelspec": {
   "display_name": "SageMath 10.6",
   "language": "sage",
   "name": "sagemath"
  },
  "language_info": {
   "codemirror_mode": {
    "name": "ipython",
    "version": 3
   },
   "file_extension": ".py",
   "mimetype": "text/x-python",
   "name": "python",
   "nbconvert_exporter": "python",
   "pygments_lexer": "ipython3",
   "version": "3.12.11"
  }
 },
 "nbformat": 4,
 "nbformat_minor": 5
}
