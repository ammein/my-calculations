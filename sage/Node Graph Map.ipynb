{
 "cells": [
  {
   "cell_type": "markdown",
   "id": "d549ea289ffd7c29",
   "metadata": {
    "collapsed": true,
    "jupyter": {
     "outputs_hidden": true
    }
   },
   "source": [
    "# Node Graph Map Calculations\n",
    "This calculations presents as part of 3D Interactive Assets component where user can quickly navigate to the points that imitate the real model hotspots by click one of the node."
   ]
  },
  {
   "cell_type": "markdown",
   "id": "66d843c8774f7a78",
   "metadata": {},
   "source": [
    "## Real Model Node"
   ]
  },
  {
   "cell_type": "markdown",
   "id": "7b9708abaa496237",
   "metadata": {},
   "source": [
    "$Vp1$, $Vp2$ and $Vp3$ represents as real vector positions from the models position"
   ]
  },
  {
   "cell_type": "code",
   "id": "a18cc66c4f1a05ac",
   "metadata": {},
   "source": [
    "from sage.all import *\n",
    "from sage.plot.plot3d.shapes2 import text3d\n",
    "pointHs = 5.0\n",
    "originV = vector([0,0,0])\n",
    "Vp1 = vector([-155.0, 50., 30.])\n",
    "Vp2 = vector([55.0, 10., 10.])\n",
    "Vp3 = vector([-155.0, 20., 80.])"
   ],
   "outputs": [],
   "execution_count": null
  },
  {
   "cell_type": "markdown",
   "id": "95af507468bd1771",
   "metadata": {},
   "source": [
    "Create empty scene"
   ]
  },
  {
   "cell_type": "code",
   "id": "f017b6e5a145175f",
   "metadata": {},
   "source": [
    "scene = sphere([0.0,0.0,0.0], size=0.0, opacity=0.0)"
   ],
   "outputs": [],
   "execution_count": null
  },
  {
   "cell_type": "markdown",
   "id": "d6c60134ba8a899e",
   "metadata": {},
   "source": [
    "Create Sphere based on real locations hotspot points & line connected from origin to each location of $Vp1$, $Vp2$ and $Vp3$"
   ]
  },
  {
   "cell_type": "code",
   "id": "97fb52a61d5fe39a",
   "metadata": {},
   "source": [
    "origin = text3d('Origin', tuple(originV))\n",
    "\n",
    "offsetLabel = vector([0.0,0.0,10.0])\n",
    "hs1Label = text3d('HS1', tuple(Vp1 + offsetLabel))\n",
    "hs2Label = text3d('HS2', tuple(Vp2 + offsetLabel))\n",
    "hs3Label = text3d('HS3', tuple(Vp3 + offsetLabel))\n",
    "\n",
    "hs1 = sphere(Vp1, size=pointHs)\n",
    "hs2 = sphere(Vp2, size=pointHs)\n",
    "hs3 = sphere(Vp3, size=pointHs)\n",
    "\n",
    "line1 = line3d([Vp1, originV], arrow=True)\n",
    "line2 = line3d([Vp2, originV], arrow=True)\n",
    "line3 = line3d([Vp3, originV], arrow=True)\n",
    "\n",
    "scene += hs1 + hs2 + hs3 + hs1Label + hs2Label + hs3Label + origin + line1 + line2 + line3\n",
    "\n",
    "scene.show(frame=False)"
   ],
   "outputs": [],
   "execution_count": null
  },
  {
   "cell_type": "markdown",
   "id": "a8f443e121ab9cb1",
   "metadata": {},
   "source": [
    "## Node Graph Map"
   ]
  },
  {
   "cell_type": "markdown",
   "id": "8014336f9fd4511",
   "metadata": {},
   "source": [
    "Calculate Unit Vector based on the location no matter if the real location is in negative value. $\\mathbf{\\hat{v}}$ represents as Unit Vector and $\\mathbf{|v|}$ represents as magnitude\n",
    "\n",
    "$$\n",
    "\\mathbf{\\hat{v} = \\frac{v}{|v|}}\n",
    "$$\n",
    "\n",
    "$$\n",
    "\\mathbf{\\hat{v} = \\frac{Vx}{|v|} + \\frac{Vy}{|v|}}\n",
    "$$\n",
    "\n",
    "$$\n",
    "\\mathbf{|v| = \\sqrt{Vx^2 + Vy^2}}\n",
    "$$"
   ]
  },
  {
   "cell_type": "code",
   "id": "f78b23e6bb93cc16",
   "metadata": {},
   "source": [
    "def unitvector(v):\n",
    "    \"\"\"\n",
    "    To Calculate Unit Vector\n",
    "    :param v: Vector\n",
    "    :return: vector\n",
    "    \"\"\"\n",
    "    uv = sqrt(sum(val**2 for val in v))\n",
    "    return vector([originalVal/uv for originalVal in v])"
   ],
   "outputs": [],
   "execution_count": null
  },
  {
   "cell_type": "code",
   "id": "67b8a90bd8ddbff8",
   "metadata": {},
   "source": [
    "from sage.repl.ipython_kernel.widgets_sagenb import slider, Color\n",
    "\n",
    "UVp1 = unitvector(Vp1)\n",
    "UVp2 = unitvector(Vp2)\n",
    "UVp3 = unitvector(Vp3)\n",
    "\n",
    "offsetLabeluv = vector([0.0,0.0,0.1])\n",
    "\n",
    "@interact\n",
    "def run_node_graph(size_division=slider(vmin=1.0, vmax=1000.0, default=100., step_size=1.0)):\n",
    "    scene_node = sphere([0.0,0.0,0.0], size=0.0, opacity=0.0)\n",
    "\n",
    "    uvhs1= sphere(UVp1, size=pointHs/size_division)\n",
    "    uvhs2= sphere(UVp2, size=pointHs/size_division)\n",
    "    uvhs3= sphere(UVp3, size=pointHs/size_division)\n",
    "\n",
    "    labeluvhs1 = text3d('HS1', tuple(UVp1 + offsetLabeluv))\n",
    "    labeluvhs2 = text3d('HS2', tuple(UVp2 + offsetLabeluv))\n",
    "    labeluvhs3 = text3d('HS3', tuple(UVp3 + offsetLabeluv))\n",
    "\n",
    "    lineuvhs1 = line3d([UVp1, originV], arrow=True)\n",
    "    lineuvhs2 = line3d([UVp2, originV], arrow=True)\n",
    "    lineuvhs3 = line3d([UVp3, originV], arrow=True)\n",
    "\n",
    "    sphere_visual = sphere(vector([0.,0.,0.]), size=1., opacity=0.5)\n",
    "\n",
    "    scene_node += uvhs1 + uvhs2 + uvhs3 + lineuvhs1 + lineuvhs2 + lineuvhs3 + labeluvhs1 + labeluvhs2 + labeluvhs3 + sphere_visual\n",
    "\n",
    "    scene_node.show()"
   ],
   "outputs": [],
   "execution_count": null
  },
  {
   "cell_type": "markdown",
   "id": "f966879ec5648a0c",
   "metadata": {},
   "source": [
    "## Animate Node Graph\n",
    "Now let's test animate the node graph when hotspot changes just to experiment if the node vector is always return length of $1$"
   ]
  },
  {
   "cell_type": "code",
   "id": "9a7731e537cf5c51",
   "metadata": {},
   "source": [
    "from sage.all import *\n",
    "import random\n",
    "\n",
    "# ---------- helpers ----------\n",
    "def generate_nonzero_vector(scale=100.0, eps=1e-9, max_attempts=1000):\n",
    "    while True:\n",
    "        # random.uniform(a, b) gives float in [a, b]\n",
    "        v = vector([random.uniform(-scale, scale) for _ in range(3)])\n",
    "        if v.norm() > eps:  # skip origin (or near-origin)\n",
    "            return v\n",
    "\n",
    "\n",
    "def next_random_far_from(v_last, scale=100.0, min_step=5.0):\n",
    "    while True:\n",
    "        v = generate_nonzero_vector(scale)\n",
    "        if (v - v_last).norm() >= min_step:\n",
    "            return v\n",
    "\n",
    "def lerp(a, b, t):\n",
    "    return (1 - t) * a + t * b\n",
    "\n",
    "# ---------- build frames ----------\n",
    "def build_animation(num_cycles=8, steps_per_cycle=15, scale=100.0,\n",
    "                    sphere_size=2.0, show_trail=True, show_sphere=False):\n",
    "    frames = []\n",
    "\n",
    "    # start at origin once\n",
    "    start1 = start2 = start3 = vector([0.0, 0.0, 0.0])\n",
    "    # first targets\n",
    "    r1 = generate_nonzero_vector(scale)\n",
    "    r2 = generate_nonzero_vector(scale)\n",
    "    r3 = generate_nonzero_vector(scale)\n",
    "\n",
    "    # trails (as connected lines)\n",
    "    trail1 = [start1]\n",
    "    trail2 = [start2]\n",
    "    trail3 = [start3]\n",
    "\n",
    "    for cycle in range(num_cycles):\n",
    "        for i in range(steps_per_cycle):\n",
    "            t = i / float(steps_per_cycle - 1)  # includes 0 and 1\n",
    "            p1 = lerp(start1, r1, t)\n",
    "            p2 = lerp(start2, r2, t)\n",
    "            p3 = lerp(start3, r3, t)\n",
    "\n",
    "            G = sphere((0, 0, 0), size=1.0, opacity=0.3)  # reference origin\n",
    "\n",
    "            # current positions\n",
    "            G += sphere(p1, size=sphere_size, color='blue')\n",
    "            G += sphere(p2, size=sphere_size, color='blue')\n",
    "            G += sphere(p3, size=sphere_size, color='blue')\n",
    "\n",
    "            # Line from origin\n",
    "            line_r1 = line3d([vector([0.,0.,0.]), p1], arrow=True)\n",
    "            line_r2 = line3d([vector([0.,0.,0.]), p2], arrow=True)\n",
    "            line_r3 = line3d([vector([0.,0.,0.]), p3], arrow=True)\n",
    "\n",
    "            G += line_r1 + line_r2 + line_r3\n",
    "\n",
    "            # show trails up to current point\n",
    "            if show_trail:\n",
    "                G += line3d(trail1 + [p1], color='lightblue', thickness=2)\n",
    "                G += line3d(trail2 + [p2], color='lightblue', thickness=2)\n",
    "                G += line3d(trail3 + [p3], color='lightblue', thickness=2)\n",
    "\n",
    "            frames.append(G)\n",
    "\n",
    "        # end of cycle: commit endpoints to trails and advance start/targets\n",
    "        start1, start2, start3 = r1, r2, r3\n",
    "        trail1.append(start1); trail2.append(start2); trail3.append(start3)\n",
    "        r1 = next_random_far_from(start1, scale=scale)\n",
    "        r2 = next_random_far_from(start2, scale=scale)\n",
    "        r3 = next_random_far_from(start3, scale=scale)\n",
    "\n",
    "    return frames\n",
    "\n",
    "# ---------- run ----------\n",
    "frames = build_animation(num_cycles=10, steps_per_cycle=20, scale=100.0,\n",
    "                         sphere_size=2.0, show_trail=False)\n",
    "A = animate(frames, axes=True).interactive(online=True)\n",
    "A.show()\n"
   ],
   "outputs": [],
   "execution_count": null
  }
 ],
 "metadata": {
  "kernelspec": {
   "display_name": "SageMath 10.6",
   "language": "sage",
   "name": "sagemath"
  },
  "language_info": {
   "codemirror_mode": {
    "name": "ipython",
    "version": 3
   },
   "file_extension": ".py",
   "mimetype": "text/x-python",
   "name": "python",
   "nbconvert_exporter": "python",
   "pygments_lexer": "ipython3",
   "version": "3.12.11"
  }
 },
 "nbformat": 4,
 "nbformat_minor": 5
}
