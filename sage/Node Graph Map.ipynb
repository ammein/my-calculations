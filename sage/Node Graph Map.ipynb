{
 "cells": [
  {
   "cell_type": "markdown",
   "id": "d549ea289ffd7c29",
   "metadata": {
    "collapsed": true,
    "jupyter": {
     "outputs_hidden": true
    }
   },
   "source": [
    "# Node Graph Map Calculations\n",
    "This calculations presents as part of 3D Interactive Assets component where user can quickly navigate to the points that imitate the real model hotspots by click one of the node."
   ]
  },
  {
   "cell_type": "markdown",
   "id": "66d843c8774f7a78",
   "metadata": {},
   "source": [
    "## Real Model Node"
   ]
  },
  {
   "cell_type": "markdown",
   "id": "7b9708abaa496237",
   "metadata": {},
   "source": [
    "$Vp1$, $Vp2$ and $Vp3$ represents as real vector positions from the models position"
   ]
  },
  {
   "cell_type": "code",
   "id": "a18cc66c4f1a05ac",
   "metadata": {},
   "source": [
    "from sage.all import *\n",
    "from sage.plot.colors import rgbcolor\n",
    "from sage.plot.plot3d.shapes2 import text3d\n",
    "pointHs = 5.0\n",
    "originV = vector([0,0,0])\n",
    "Vp1 = vector([-155.0, 50., 30.])\n",
    "Vp2 = vector([55.0, 10., 10.])\n",
    "Vp3 = vector([-155.0, 20., 80.])"
   ],
   "outputs": [],
   "execution_count": null
  },
  {
   "cell_type": "markdown",
   "id": "95af507468bd1771",
   "metadata": {},
   "source": [
    "Create empty scene"
   ]
  },
  {
   "cell_type": "code",
   "id": "f017b6e5a145175f",
   "metadata": {},
   "source": [
    "scene = sphere([0.0,0.0,0.0], size=0.0, opacity=0.0)"
   ],
   "outputs": [],
   "execution_count": null
  },
  {
   "cell_type": "markdown",
   "id": "d6c60134ba8a899e",
   "metadata": {},
   "source": [
    "Create Sphere based on real locations hotspot points & line connected from origin to each location of $Vp1$, $Vp2$ and $Vp3$"
   ]
  },
  {
   "cell_type": "code",
   "id": "97fb52a61d5fe39a",
   "metadata": {},
   "source": [
    "origin = text3d('Origin', tuple(originV))\n",
    "\n",
    "offsetLabel = vector([0.0,0.0,10.0])\n",
    "hs1Label = text3d('HS1', tuple(Vp1 + offsetLabel))\n",
    "hs2Label = text3d('HS2', tuple(Vp2 + offsetLabel))\n",
    "hs3Label = text3d('HS3', tuple(Vp3 + offsetLabel))\n",
    "\n",
    "hs1 = sphere(Vp1, size=pointHs)\n",
    "hs2 = sphere(Vp2, size=pointHs)\n",
    "hs3 = sphere(Vp3, size=pointHs)\n",
    "\n",
    "line1 = line3d([Vp1, originV], arrow=True)\n",
    "line2 = line3d([Vp2, originV], arrow=True)\n",
    "line3 = line3d([Vp3, originV], arrow=True)\n",
    "\n",
    "scene += hs1 + hs2 + hs3 + hs1Label + hs2Label + hs3Label + origin + line1 + line2 + line3\n",
    "\n",
    "scene.show(frame=False)"
   ],
   "outputs": [],
   "execution_count": null
  },
  {
   "cell_type": "markdown",
   "id": "a8f443e121ab9cb1",
   "metadata": {},
   "source": [
    "## Node Graph Map"
   ]
  },
  {
   "cell_type": "markdown",
   "id": "8014336f9fd4511",
   "metadata": {},
   "source": [
    "Calculate Unit Vector based on the location no matter if the real location is in negative value. $\\mathbf{\\hat{v}}$ represents as Unit Vector and $\\mathbf{|v|}$ represents as magnitude\n",
    "\n",
    "$$\n",
    "\\mathbf{\\hat{v} = \\frac{v}{|v|}}\n",
    "$$\n",
    "\n",
    "$$\n",
    "\\mathbf{\\hat{v} = \\frac{Vx}{|v|} + \\frac{Vy}{|v|}}\n",
    "$$\n",
    "\n",
    "$$\n",
    "\\mathbf{|v| = \\sqrt{Vx^2 + Vy^2}}\n",
    "$$"
   ]
  },
  {
   "cell_type": "code",
   "id": "f78b23e6bb93cc16",
   "metadata": {},
   "source": [
    "def unitvector(v):\n",
    "    \"\"\"\n",
    "    To Calculate Unit Vector\n",
    "    :param v: Vector\n",
    "    :return: vector\n",
    "    \"\"\"\n",
    "    uv = sqrt(sum(val**2 for val in v))\n",
    "    return vector([originalVal/uv for originalVal in v])"
   ],
   "outputs": [],
   "execution_count": null
  },
  {
   "cell_type": "code",
   "id": "67b8a90bd8ddbff8",
   "metadata": {},
   "source": [
    "from sage.repl.ipython_kernel.widgets_sagenb import slider\n",
    "\n",
    "UVp1 = unitvector(Vp1)\n",
    "UVp2 = unitvector(Vp2)\n",
    "UVp3 = unitvector(Vp3)\n",
    "\n",
    "offsetLabeluv = vector([0.0,0.0,0.1])\n",
    "\n",
    "@interact\n",
    "def run_node_graph(size_division=slider(vmin=1.0, vmax=1000.0, default=100., step_size=1.0)):\n",
    "    scene_node = sphere([0.0,0.0,0.0], size=0.0, opacity=0.0)\n",
    "\n",
    "    uvhs1= sphere(UVp1, size=pointHs/size_division)\n",
    "    uvhs2= sphere(UVp2, size=pointHs/size_division)\n",
    "    uvhs3= sphere(UVp3, size=pointHs/size_division)\n",
    "\n",
    "    labeluvhs1 = text3d('HS1', tuple(UVp1 + offsetLabeluv))\n",
    "    labeluvhs2 = text3d('HS2', tuple(UVp2 + offsetLabeluv))\n",
    "    labeluvhs3 = text3d('HS3', tuple(UVp3 + offsetLabeluv))\n",
    "\n",
    "    lineuvhs1 = line3d([UVp1, originV], arrow=True)\n",
    "    lineuvhs2 = line3d([UVp2, originV], arrow=True)\n",
    "    lineuvhs3 = line3d([UVp3, originV], arrow=True)\n",
    "\n",
    "    sphere_visual = sphere(vector([0.,0.,0.]), size=1., opacity=0.5)\n",
    "\n",
    "    scene_node += uvhs1 + uvhs2 + uvhs3 + lineuvhs1 + lineuvhs2 + lineuvhs3 + labeluvhs1 + labeluvhs2 + labeluvhs3 + sphere_visual\n",
    "\n",
    "    scene_node.show()"
   ],
   "outputs": [],
   "execution_count": null
  },
  {
   "metadata": {},
   "cell_type": "markdown",
   "source": "> This concludes that Unit Vector is always return length of $1$ . Therefore, we can make a sphere `radius=1`",
   "id": "f7e59f08987d6755"
  },
  {
   "metadata": {},
   "cell_type": "markdown",
   "source": [
    "## Create a line from a hotspot so that it can be labeled in line vector\n",
    "For that, we create again the same scene from above"
   ],
   "id": "2c80557f75c71cc5"
  },
  {
   "metadata": {},
   "cell_type": "code",
   "source": [
    "from sage.repl.ipython_kernel.widgets_sagenb import slider\n",
    "\n",
    "@interact\n",
    "def run_node_graph(size_division=slider(vmin=1.0, vmax=1000.0, default=100., step_size=1.0)):\n",
    "    global UVp1, UVp2, UVp3\n",
    "    scene_node = sphere([0.0,0.0,0.0], size=0.0, opacity=0.0)\n",
    "\n",
    "    uvhs1= sphere(UVp1, size=pointHs/size_division)\n",
    "    uvhs2= sphere(UVp2, size=pointHs/size_division)\n",
    "    uvhs3= sphere(UVp3, size=pointHs/size_division)\n",
    "\n",
    "    labeluvhs1 = text3d('HS1', tuple(UVp1 + offsetLabeluv))\n",
    "    labeluvhs2 = text3d('HS2', tuple(UVp2 + offsetLabeluv))\n",
    "    labeluvhs3 = text3d('HS3', tuple(UVp3 + offsetLabeluv))\n",
    "\n",
    "    lineuvhs1 = line3d([UVp1, originV], arrow=True)\n",
    "    lineuvhs2 = line3d([UVp2, originV], arrow=True)\n",
    "    lineuvhs3 = line3d([UVp3, originV], arrow=True)\n",
    "\n",
    "    # Add vector direction with a scalar of 1.5\n",
    "    scalar = 1.5\n",
    "\n",
    "    line_labelhs1 = line3d([UVp1 * scalar, UVp1], color=Color('red'))\n",
    "    line_labelhs2 = line3d([UVp2 * scalar, UVp2], color=Color('red'))\n",
    "    line_labelhs3 = line3d([UVp3 * scalar, UVp3], color=Color('red'))\n",
    "\n",
    "    sphere_visual = sphere(vector([0.,0.,0.]), size=1., opacity=0.5)\n",
    "\n",
    "    camere_position = vector([0.,-5.,0.])\n",
    "    camera_size = 0.2\n",
    "    camera = sphere(camere_position, size=.2, opacity=1.0)\n",
    "    label_camera = text3d('Camera', tuple(camere_position + vector([0.,0.,camera_size + 0.1])))\n",
    "\n",
    "    scene_node += uvhs1 + uvhs2 + uvhs3 + lineuvhs1 + lineuvhs2 + lineuvhs3 + labeluvhs1 + labeluvhs2 + labeluvhs3 + sphere_visual + line_labelhs1 + line_labelhs2 + line_labelhs3 + camera + label_camera\n",
    "\n",
    "    scene_node.show()"
   ],
   "id": "144380486e77138c",
   "outputs": [],
   "execution_count": null
  },
  {
   "metadata": {},
   "cell_type": "markdown",
   "source": [
    "#### Dot Product from Ray\n",
    "We need to see if the dot product of a ray (Camera ray to lookat label) can be measured and manipulated if something is out of view. Let's create a 2D plot to see what's happening.\n",
    "\n",
    "To see Dot Product of Two Euclidean Vectors $a$ and $b$ is defined by:\n",
    "$$\n",
    "\\mathbf{a\\bullet{b} = \\|a\\|\\|b\\| \\cos\\theta}\n",
    "$$\n",
    "$$\n",
    "\\mathbf{\\cos\\theta = \\frac{a\\bullet{b}}{\\|a\\|\\|b\\|}}\n",
    "$$\n",
    "$$\n",
    "\\mathbf{a\\bullet{a} = \\|a\\|^2}\n",
    "$$\n",
    "$$\n",
    "\\mathbf{\\|a\\|= \\sqrt{a \\bullet{a} }}\n",
    "$$"
   ],
   "id": "8f04239b3a4f8dec"
  },
  {
   "metadata": {},
   "cell_type": "code",
   "source": [
    "from sage.all import *\n",
    "from math import pi\n",
    "\n",
    "def rad_to_deg(rad):\n",
    "    return n(rad*(180/pi))\n",
    "\n",
    "@interact\n",
    "def plot_dot_product(show_other_side=False):\n",
    "    object_position = vector([2., 2.])\n",
    "    radius = 1.\n",
    "\n",
    "    # Vector: from circle center to origin\n",
    "    to_origin = vector([0.,0.]) - object_position\n",
    "\n",
    "    # Angles relative to +x axis\n",
    "    theta_axis = 0\n",
    "    theta_ray = atan2(to_origin[1], to_origin[0])\n",
    "    if theta_ray < 0 and show_other_side:\n",
    "        theta_ray += 2*pi\n",
    "\n",
    "    # Compute both wedge options\n",
    "    start, end = sorted([theta_axis, theta_ray])\n",
    "    sector = (start, end)\n",
    "\n",
    "    # Draw objects\n",
    "    C = circle(object_position, radius, rgbcolor=Color('red'))\n",
    "    R = arrow((0.,0.), object_position, color=Color('blue'))\n",
    "    O = circle(object_position, 0.02, color=Color('green'), fill=True)\n",
    "    text_origin = text(\"Center\", object_position + vector([0.,.1]), color=Color('green'))\n",
    "\n",
    "    # Green axis through circle\n",
    "    left_axis = object_position - vector([radius, 0.])\n",
    "    right_axis = object_position + vector([radius, 0.])\n",
    "    axis = line([left_axis, right_axis], color=Color('green'))\n",
    "\n",
    "    # Arc inside the circle (either small or opposite wedge)\n",
    "    angle_circle = arc(object_position, radius*0.5, sector=sector, color='blue')\n",
    "    text_arc = text(\"Angle/Rad:\\n\" + str(rad_to_deg(sector[1] - sector[0]).n(10)) + \"/\" + str((sector[1] - sector[0]).n(10)), object_position - vector([0., radius + 0.2]), color=Color('blue'))\n",
    "\n",
    "    return plot(C + R + axis + text_origin + O + angle_circle + text_arc)\n"
   ],
   "id": "3b744a46e2acb421",
   "outputs": [],
   "execution_count": null
  },
  {
   "cell_type": "markdown",
   "id": "f966879ec5648a0c",
   "metadata": {},
   "source": [
    "## Animate Node Graph\n",
    "Now let's test animate the node graph when hotspot changes just to experiment if the node vector is always return length of $1$"
   ]
  },
  {
   "cell_type": "code",
   "id": "9a7731e537cf5c51",
   "metadata": {},
   "source": [
    "from sage.all import *\n",
    "import random\n",
    "\n",
    "# ---------- helpers ----------\n",
    "def generate_nonzero_vector(scale=100.0, eps=1e-9):\n",
    "    while True:\n",
    "        # random.uniform(a, b) gives float in [a, b]\n",
    "        v = vector([random.uniform(-scale, scale) for _ in range(3)])\n",
    "        if v.norm() > eps:  # skip origin (or near-origin)\n",
    "            return v\n",
    "\n",
    "\n",
    "def next_random_far_from(v_last, scale=100.0, min_step=5.0):\n",
    "    while True:\n",
    "        v = generate_nonzero_vector(scale)\n",
    "        if (v - v_last).norm() >= min_step:\n",
    "            return v\n",
    "\n",
    "def lerp(a, b, t):\n",
    "    return (1 - t) * a + t * b\n",
    "\n",
    "# ---------- build frames ----------\n",
    "def build_animation(num_cycles=8, steps_per_cycle=15, scale=100.0,\n",
    "                    sphere_size=2.0, show_trail=True, show_sphere=False):\n",
    "    frames = []\n",
    "\n",
    "    # start at origin once\n",
    "    start1 = start2 = start3 = vector([0.0, 0.0, 0.0])\n",
    "    # first targets\n",
    "    r1 = unitvector(generate_nonzero_vector(scale))\n",
    "    r2 = unitvector(generate_nonzero_vector(scale))\n",
    "    r3 = unitvector(generate_nonzero_vector(scale))\n",
    "\n",
    "    # trails (as connected lines)\n",
    "    trail1 = [start1]\n",
    "    trail2 = [start2]\n",
    "    trail3 = [start3]\n",
    "\n",
    "    for cycle in range(num_cycles):\n",
    "        for i in range(steps_per_cycle):\n",
    "            t = i / float(steps_per_cycle - 1)  # includes 0 and 1\n",
    "            p1 = lerp(start1, r1, t)\n",
    "            p2 = lerp(start2, r2, t)\n",
    "            p3 = lerp(start3, r3, t)\n",
    "\n",
    "            G = sphere((0, 0, 0), size=1.0, opacity=0.3)  # reference origin\n",
    "\n",
    "            # current positions\n",
    "            G += sphere(p1, size=sphere_size, color='red')\n",
    "            G += sphere(p2, size=sphere_size, color='red')\n",
    "            G += sphere(p3, size=sphere_size, color='red')\n",
    "\n",
    "            # Line from origin\n",
    "            line_r1 = line3d([vector([0.,0.,0.]), p1], arrow=True)\n",
    "            line_r2 = line3d([vector([0.,0.,0.]), p2], arrow=True)\n",
    "            line_r3 = line3d([vector([0.,0.,0.]), p3], arrow=True)\n",
    "\n",
    "            G += line_r1 + line_r2 + line_r3\n",
    "\n",
    "            # show trails up to current point\n",
    "            if show_trail:\n",
    "                G += line3d(trail1 + [p1], color='lightblue', thickness=2)\n",
    "                G += line3d(trail2 + [p2], color='lightblue', thickness=2)\n",
    "                G += line3d(trail3 + [p3], color='lightblue', thickness=2)\n",
    "\n",
    "            frames.append(G)\n",
    "\n",
    "        # end of cycle: commit endpoints to trails and advance start/targets\n",
    "        start1, start2, start3 = r1, r2, r3\n",
    "        trail1.append(start1); trail2.append(start2); trail3.append(start3)\n",
    "        r1 = unitvector(next_random_far_from(start1, scale=scale))\n",
    "        r2 = unitvector(next_random_far_from(start2, scale=scale))\n",
    "        r3 = unitvector(next_random_far_from(start3, scale=scale))\n",
    "\n",
    "    return frames\n",
    "\n",
    "# ---------- run ----------\n",
    "frames = build_animation(num_cycles=10, steps_per_cycle=20, scale=100.0,\n",
    "                         sphere_size=.02, show_trail=False)\n",
    "A = animate(frames, axes=True).interactive(online=True)\n",
    "A.show()"
   ],
   "outputs": [],
   "execution_count": null
  },
  {
   "metadata": {},
   "cell_type": "markdown",
   "source": "### Code Explains in Mathematical Notation",
   "id": "ab5ab5482a572705"
  },
  {
   "metadata": {},
   "cell_type": "markdown",
   "source": [
    "For `frames`, assume $nc$ is the number of cycles and $spc$ is the number of steps per cycle.\n",
    "\n",
    "---\n",
    "\n",
    "**1. Linear interpolation (per cycle)**\n",
    "\n",
    "For each cycle $j \\in \\{0, \\dots, nc-1\\}$, let $s_j \\in \\mathbb{R}^3$ be the start vector and\n",
    "$r_j \\in \\mathbb{R}^3$ the target vector (with $\\lVert r_j \\rVert = 1$).\n",
    "At step $i \\in \\{0, \\dots, spc-1\\}$, the interpolated position is\n",
    "\n",
    "$$\n",
    "P_{j,i} = \\operatorname{lerp}(s_j, r_j, \\tfrac{i}{spc-1})\n",
    "        = \\Bigl(1 - \\tfrac{i}{spc-1}\\Bigr) s_j + \\tfrac{i}{spc-1} r_j.\n",
    "$$\n",
    "\n",
    "---\n",
    "\n",
    "**2. Random next direction (end of cycle)**\n",
    "\n",
    "At the end of each cycle, generate the next random unit vector $r_{j+1}$ by sampling a\n",
    "vector $u \\sim \\mathrm{Uniform}([-scale,\\, scale]^3)$ such that\n",
    "\n",
    "$$\n",
    "r_{j+1} = \\frac{u}{\\lVert u \\rVert},\n",
    "\\qquad \\lVert r_{j+1} - r_j \\rVert \\geq \\text{min\\_step}.\n",
    "$$\n",
    "\n",
    "---\n",
    "\n",
    "**3. Full animation sequence**\n",
    "\n",
    "The animation is defined as the ordered sequence of all interpolated positions:\n",
    "\n",
    "$$\n",
    "\\operatorname{animate}(nc, spc)\n",
    "  = \\{\\, P_{j,i} \\;\\mid\\; j = 0,\\dots,nc-1,\\;\\; i = 0,\\dots,spc-1 \\,\\}.\n",
    "$$\n"
   ],
   "id": "dc6fe84567771c4e"
  },
  {
   "metadata": {},
   "cell_type": "markdown",
   "source": [
    "## Node Graph 3D Position in ThreeJS\n",
    "We will do node graph 3d position using new scene from this template of code:"
   ],
   "id": "5654a4ef77e088b4"
  },
  {
   "metadata": {},
   "cell_type": "markdown",
   "source": [
    "```javascript\n",
    "// Main 3D world camera\n",
    "const mainCamera = new THREE.PerspectiveCamera(...);\n",
    "\n",
    "// Orthographic camera for UI overlay\n",
    "const uiCamera = new THREE.OrthographicCamera(-1, 1, 1, -1, 0, 10);\n",
    "\n",
    "// Scene for UI elements\n",
    "const uiScene = new THREE.Scene();\n",
    "\n",
    "// Example: minimap plane in top-right corner\n",
    "const minimapTexture = renderTarget.texture;\n",
    "const minimapMaterial = new THREE.MeshBasicMaterial({ map: minimapTexture });\n",
    "const minimapPlane = new THREE.Mesh(new THREE.PlaneGeometry(0.3, 0.3), minimapMaterial);\n",
    "minimapPlane.position.set(0.7, 0.7, 0); // top-right in NDC\n",
    "uiScene.add(minimapPlane);\n",
    "\n",
    "// Render loop\n",
    "renderer.setViewport(0, 0, window.innerWidth, window.innerHeight);\n",
    "renderer.render(mainScene, mainCamera);   // main world\n",
    "renderer.clearDepth();\n",
    "renderer.render(uiScene, uiCamera);       // overlay (minimap)\n",
    "\n",
    "```"
   ],
   "id": "9bee5d5e7cb1f64a"
  }
 ],
 "metadata": {
  "kernelspec": {
   "display_name": "SageMath 10.6",
   "language": "sage",
   "name": "sagemath"
  },
  "language_info": {
   "codemirror_mode": {
    "name": "ipython",
    "version": 3
   },
   "file_extension": ".py",
   "mimetype": "text/x-python",
   "name": "python",
   "nbconvert_exporter": "python",
   "pygments_lexer": "ipython3",
   "version": "3.12.11"
  }
 },
 "nbformat": 4,
 "nbformat_minor": 5
}
