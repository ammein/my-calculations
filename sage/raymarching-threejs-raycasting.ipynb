{
 "cells": [
  {
   "cell_type": "markdown",
   "id": "4dc92e7c23496873",
   "metadata": {
    "collapsed": true,
    "jupyter": {
     "outputs_hidden": true
    }
   },
   "source": [
    "```glsl\n",
    "out vec3 ray;\n",
    "in vec3 position;\n",
    "uniform float cameraFov;\n",
    "uniform vec2 resolution;\n",
    "uniform mat4 viewMatrix;\n",
    "\n",
    "void main() {\n",
    "  gl_Position = vec4(position.xy, 0, 1);\n",
    "  float aspect = resolution.y / resolution.x;\n",
    "  vec2 uv = vec2(position.x, position.y * aspect);\n",
    "  float cameraDistance = (1.0 / tan(cameraFov / 2.0)) * aspect;\n",
    "  ray = normalize(vec3(uv, -cameraDistance) * mat3(viewMatrix));\n",
    "}\n",
    "```"
   ]
  },
  {
   "cell_type": "code",
   "id": "2080b42937ee680c",
   "metadata": {
    "ExecuteTime": {
     "end_time": "2025-08-12T15:38:00.802307Z",
     "start_time": "2025-08-12T15:38:00.798045Z"
    }
   },
   "source": [
    "from sage.all import *\n",
    "\n",
    "def normalize(v):\n",
    "    n = v.norm()\n",
    "    return v / n if n > 0 else v\n",
    "\n",
    "def look_at_matrix(eye, at, up):\n",
    "    # Step 1: Compute z-axis\n",
    "    zaxis = normalize(at - eye)\n",
    "\n",
    "    # Step 2: Compute x-axis\n",
    "    xaxis = normalize(zaxis.cross_product(up))\n",
    "\n",
    "    # Step 3: Compute y-axis\n",
    "    yaxis = xaxis.cross_product(zaxis)\n",
    "\n",
    "    # Step 4: Create view matrix (right-handed)\n",
    "    view = matrix([\n",
    "        [xaxis[0], yaxis[0], zaxis[0], 0],\n",
    "        [xaxis[1], yaxis[1], zaxis[1], 0],\n",
    "        [xaxis[2], yaxis[2], zaxis[2], 0],\n",
    "        [-xaxis.dot_product(eye), -yaxis.dot_product(eye), -zaxis.dot_product(eye), 1]\n",
    "    ])\n",
    "\n",
    "    return view\n",
    "\n",
    "def mat4_to_mat3_sage(mat4):\n",
    "    if mat4.nrows() != 4 or mat4.ncols() != 4:\n",
    "        raise ValueError(\"Matrix must be 4x4\")\n",
    "    return mat4[0:3, 0:3]  # top-left 3x3 submatrix"
   ],
   "outputs": [],
   "execution_count": 50
  },
  {
   "cell_type": "code",
   "id": "ddb77925a2f4b487",
   "metadata": {
    "ExecuteTime": {
     "end_time": "2025-08-12T15:38:03.314320Z",
     "start_time": "2025-08-12T15:38:03.308026Z"
    }
   },
   "source": [
    "cameraFov, resolution, viewMatrix, eye, at, up, position = var('cameraFov, resolution, viewMatrix, eye, at, up, position')\n",
    "cameraFov = 2.0\n",
    "resolution = vector([500,500])\n",
    "up = vector([0.0,1.0,0.0])\n",
    "at = vector([0.0,0.0,0.0])\n",
    "eye = vector([0.0,0.5,1.0])\n",
    "position = vector([0.0,0.0,0.0])\n",
    "aspect = resolution[1]/resolution[0]\n",
    "uv = vector([position[0], position[1] * aspect])\n",
    "cameraDistance = (1.0 / tan(cameraFov / 2.0)) * aspect\n",
    "viewMatrix = look_at_matrix(eye, at, up)\n",
    "ray = normalize(vector([uv[0], uv[1], -cameraDistance]) * mat4_to_mat3_sage(viewMatrix))"
   ],
   "outputs": [],
   "execution_count": 51
  },
  {
   "cell_type": "code",
   "id": "f98a45aa79c16bfa",
   "metadata": {
    "ExecuteTime": {
     "end_time": "2025-08-12T15:38:39.763097Z",
     "start_time": "2025-08-12T15:38:39.754536Z"
    }
   },
   "source": [
    "@interact\n",
    "def ray_plot(size=slider([0.1, 0.2, .. 1.0])):\n",
    "    P = sphere(position, size=size, opacity = 0.5)\n",
    "    C = sphere(eye, size = 0.1, legend_label=\"Camera\", color = \"red\")\n",
    "    L = line3d((ray, position), thickness=2.0, arrow_head=true, color=\"red\", legend_label=\"ray\")\n",
    "    show(P + C + L)"
   ],
   "outputs": [
    {
     "data": {
      "application/vnd.jupyter.widget-view+json": {
       "version_major": 2,
       "version_minor": 0,
       "model_id": "cc547bcae87343568744eacd7be23baa"
      },
      "text/plain": [
       "Interactive function <function ray_plot at 0x167be0540> with 1 widget\n",
       "  size: SelectionSlider(description='size', options=(0.100000000000000, 0.200000000000000, 0.300000000000000, 0.400000000000000, 0.500000000000000, 0.600000000000000, 0.700000000000000, 0.800000000000000, 0.900000000000000, 1.00000000000000), value=0.100000000000000)"
      ]
     },
     "metadata": {},
     "output_type": "display_data"
    }
   ],
   "execution_count": 53
  },
  {
   "cell_type": "code",
   "id": "342f4c0137eaffa",
   "metadata": {
    "ExecuteTime": {
     "end_time": "2025-08-12T15:18:48.361223Z",
     "start_time": "2025-08-12T15:18:48.303353Z"
    }
   },
   "source": [
    "from sage.all import *\n",
    "@interact\n",
    "def myplot(f=x**Integer(2)):\n",
    "    show(plot(f,(x,-Integer(3),Integer(3))))"
   ],
   "outputs": [
    {
     "data": {
      "application/vnd.jupyter.widget-view+json": {
       "version_major": 2,
       "version_minor": 0,
       "model_id": "5f69403c5b694560b85789007d265036"
      },
      "text/plain": [
       "Interactive function <function myplot at 0x167adfd80> with 1 widget\n",
       "  f: EvalText(value='x^2', description='f')"
      ]
     },
     "metadata": {},
     "output_type": "display_data"
    }
   ],
   "execution_count": 34
  },
  {
   "metadata": {
    "ExecuteTime": {
     "end_time": "2025-08-12T15:18:48.367840Z",
     "start_time": "2025-08-12T15:18:48.366606Z"
    }
   },
   "cell_type": "markdown",
   "source": [
    "```glsl\n",
    "precision highp float;\n",
    "precision highp int;\n",
    "\n",
    "struct Bounds {\n",
    "  vec3 center;\n",
    "  float radius;\n",
    "};\n",
    "\n",
    "struct Entity {\n",
    "  vec3 color;\n",
    "  int operation;\n",
    "  vec3 position;\n",
    "  vec4 rotation;\n",
    "  vec3 scale;\n",
    "  int shape;\n",
    "};\n",
    "\n",
    "struct SDF {\n",
    "  float distance;\n",
    "  vec3 color;\n",
    "};\n",
    "\n",
    "out vec4 fragColor;\n",
    "in vec3 ray;\n",
    "uniform float blending;\n",
    "uniform Bounds bounds;\n",
    "uniform vec3 cameraDirection;\n",
    "uniform float cameraFar;\n",
    "uniform float cameraFov;\n",
    "uniform float cameraNear;\n",
    "uniform vec3 cameraPosition;\n",
    "uniform Entity entities[MAX_ENTITIES];\n",
    "uniform sampler2D envMap;\n",
    "uniform float envMapIntensity;\n",
    "uniform float metalness;\n",
    "uniform int numEntities;\n",
    "uniform vec2 resolution;\n",
    "uniform float roughness;\n",
    "\n",
    "#define texture2D texture\n",
    "#include <common>\n",
    "#include <colorspace_pars_fragment>\n",
    "#include <lighting>\n",
    "\n",
    "vec3 applyQuaternion(const in vec3 p, const in vec4 q) {\n",
    "  return p + 2.0 * cross(-q.xyz, cross(-q.xyz, p) + q.w * p);\n",
    "}\n",
    "\n",
    "float sdBox(const in vec3 p, const in vec3 r) {\n",
    "  vec3 q = abs(p)-r;\n",
    "  return length(max(q,0.0))+min(max(q.x,max(q.y,q.z)),0.0);\n",
    "}\n",
    "\n",
    "float sdCapsule(in vec3 p, const in vec3 r) {\n",
    "  p.y -= clamp(p.y,-r.y+r.x,r.y-r.x);\n",
    "  return length(p)-r.x;\n",
    "}\n",
    "\n",
    "float sdEllipsoid(const in vec3 p, const in vec3 r) {\n",
    "  float k0 = length(p/r);\n",
    "  float k1 = length(p/(r*r));\n",
    "  return k0*(k0-1.0)/k1;\n",
    "}\n",
    "\n",
    "float sdSphere(const in vec3 p, const in float r) {\n",
    "  return length(p)-r;\n",
    "}\n",
    "\n",
    "SDF sdEntity(in vec3 p, const in Entity e) {\n",
    "  float distance;\n",
    "  p = applyQuaternion(p - e.position, normalize(e.rotation));\n",
    "  switch (e.shape) {\n",
    "    default:\n",
    "    case 0:\n",
    "      distance = sdBox(p, e.scale * 0.5 - vec3(0.1)) - 0.1;\n",
    "      break;\n",
    "    case 1:\n",
    "      distance = sdCapsule(p, e.scale * 0.5);\n",
    "      break;\n",
    "    case 2:\n",
    "      distance = sdEllipsoid(p, e.scale * 0.5);\n",
    "      break;\n",
    "  }\n",
    "  return SDF(distance, e.color);\n",
    "}\n",
    "\n",
    "SDF opSmoothUnion(const in SDF a, const in SDF b, const in float k) {\n",
    "  float h = saturate(0.5 + 0.5 * (b.distance - a.distance) / k);\n",
    "  return SDF(\n",
    "    mix(b.distance, a.distance, h) - k*h*(1.0-h),\n",
    "    mix(b.color, a.color, h)\n",
    "  );\n",
    "}\n",
    "\n",
    "SDF opSmoothSubtraction(const in SDF a, const in SDF b, const in float k) {\n",
    "  float h = saturate(0.5 - 0.5 * (a.distance + b.distance) / k);\n",
    "  return SDF(\n",
    "    mix(a.distance, -b.distance, h) + k*h*(1.0-h),\n",
    "    mix(a.color, b.color, h)\n",
    "  );\n",
    "}\n",
    "\n",
    "SDF opSmoothIntersection(const in SDF a, const in SDF b, const in float k) {\n",
    "  float h = saturate(0.5 + 0.5 * (b.distance - a.distance) / k);\n",
    "  return SDF(\n",
    "    mix(a.distance, b.distance, h) + k*h*(1.0-h),\n",
    "    mix(a.color, b.color, h)\n",
    "  );\n",
    "}\n",
    "\n",
    "SDF map(const in vec3 p) {\n",
    "  SDF scene = sdEntity(p, entities[0]);\n",
    "  for (int i = 1, l = min(numEntities, MAX_ENTITIES); i < l; i++) {\n",
    "    switch (entities[i].operation) {\n",
    "      default:\n",
    "      case 0:\n",
    "        scene = opSmoothUnion(scene, sdEntity(p, entities[i]), blending);\n",
    "        break;\n",
    "      case 1:\n",
    "        scene = opSmoothSubtraction(scene, sdEntity(p, entities[i]), blending);\n",
    "        break;\n",
    "      case 2:\n",
    "        scene = opSmoothIntersection(scene, sdEntity(p, entities[i]), blending);\n",
    "        break;\n",
    "    }\n",
    "  }\n",
    "  return scene;\n",
    "}\n",
    "\n",
    "vec3 getNormal(const in vec3 p, const in float d) {\n",
    "  const vec2 o = vec2(0.001, 0);\n",
    "  return normalize(\n",
    "    d - vec3(\n",
    "      map(p - o.xyy).distance,\n",
    "      map(p - o.yxy).distance,\n",
    "      map(p - o.yyx).distance\n",
    "    )\n",
    "  );\n",
    "}\n",
    "\n",
    "#ifdef CONETRACING\n",
    "void march(inout vec4 color, inout float distance) {\n",
    "  float closest = MAX_DISTANCE;\n",
    "  float coverage = 1.0;\n",
    "  float coneRadius = (2.0 * tan(cameraFov / 2.0)) / resolution.y;\n",
    "  for (int i = 0; i < MAX_ITERATIONS && distance < MAX_DISTANCE; i++) {\n",
    "    vec3 position = cameraPosition + ray * distance;\n",
    "    float distanceToBounds = sdSphere(position - bounds.center, bounds.radius);\n",
    "    if (distanceToBounds > 0.1) {\n",
    "      distance += distanceToBounds;\n",
    "    } else {\n",
    "      SDF step = map(position);\n",
    "      float cone = coneRadius * distance;\n",
    "      if (step.distance < cone) {\n",
    "        if (closest > distance) {\n",
    "          closest = distance;\n",
    "        }\n",
    "        float alpha = smoothstep(cone, -cone, step.distance);\n",
    "        vec3 pixel = getLight(position, getNormal(position, step.distance), step.color);\n",
    "        color.rgb += coverage * (alpha * pixel);\n",
    "        coverage *= (1.0 - alpha);\n",
    "        if (coverage <= MIN_COVERAGE) {\n",
    "          break;\n",
    "        }\n",
    "      }\n",
    "      distance += max(abs(step.distance), MIN_DISTANCE);\n",
    "    }\n",
    "  }\n",
    "  distance = closest;\n",
    "  color.a = 1.0 - (max(coverage - MIN_COVERAGE, 0.0) / (1.0 - MIN_COVERAGE));\n",
    "}\n",
    "#else\n",
    "void march(inout vec4 color, inout float distance) {\n",
    "  for (int i = 0; i < MAX_ITERATIONS && distance < MAX_DISTANCE; i++) {\n",
    "    vec3 position = cameraPosition + ray * distance;\n",
    "    float distanceToBounds = sdSphere(position - bounds.center, bounds.radius);\n",
    "    if (distanceToBounds > 0.1) {\n",
    "      distance += distanceToBounds;\n",
    "    } else {\n",
    "      SDF step = map(position);\n",
    "      if (step.distance <= MIN_DISTANCE) {\n",
    "        color = vec4(getLight(position, getNormal(position, step.distance), step.color), 1.0);\n",
    "        break;\n",
    "      }\n",
    "      distance += step.distance;\n",
    "    }\n",
    "  }\n",
    "}\n",
    "#endif\n",
    "\n",
    "void main() {\n",
    "  vec4 color = vec4(0.0);\n",
    "  float distance = cameraNear;\n",
    "  march(color, distance);\n",
    "  fragColor = saturate(sRGBTransferOETF(color));\n",
    "  float z = (distance >= MAX_DISTANCE) ? cameraFar : (distance * dot(cameraDirection, ray));\n",
    "  float ndcDepth = -((cameraFar + cameraNear) / (cameraNear - cameraFar)) + ((2.0 * cameraFar * cameraNear) / (cameraNear - cameraFar)) / z;\n",
    "  gl_FragDepth = ((gl_DepthRange.diff * ndcDepth) + gl_DepthRange.near + gl_DepthRange.far) / 2.0;\n",
    "}\n",
    "```"
   ],
   "id": "68c86824eb225b08"
  }
 ],
 "metadata": {
  "kernelspec": {
   "display_name": "SageMath 10.6",
   "language": "sage",
   "name": "sagemath"
  },
  "language_info": {
   "codemirror_mode": {
    "name": "ipython",
    "version": 3
   },
   "file_extension": ".py",
   "mimetype": "text/x-python",
   "name": "python",
   "nbconvert_exporter": "python",
   "pygments_lexer": "ipython3",
   "version": "3.12.11"
  }
 },
 "nbformat": 4,
 "nbformat_minor": 5
}
